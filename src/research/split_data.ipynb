{
 "cells": [
  {
   "cell_type": "markdown",
   "id": "f157ef27",
   "metadata": {},
   "source": [
    "# Daten Aufspalten\n",
    "\n",
    "In diesem Notebook werden die Audio-Datein eingelesen und anhand des Labels in den Label-Datein zerschnitten und mit dem Label 1 für \"Mit Pfiff\" oder 0 \"ohne Pfiff\" versehen."
   ]
  },
  {
   "cell_type": "code",
   "execution_count": 2,
   "id": "82f7a509-72a5-438a-a815-ffce2eb1121d",
   "metadata": {},
   "outputs": [],
   "source": [
    "import librosa\n",
    "import numpy as np\n",
    "np.set_printoptions(precision=4, suppress=True)\n",
    "import os\n",
    "import pandas as pd\n",
    "from scipy.fftpack import fft, fftfreq\n",
    "import soundfile as sf\n",
    "\n",
    "import sys\n",
    "sys.path.append(os.pardir)\n",
    "from helper.load_data import load_data"
   ]
  },
  {
   "cell_type": "code",
   "execution_count": 3,
   "id": "69a9ed9f",
   "metadata": {},
   "outputs": [],
   "source": [
    "# do not print warnings\n",
    "if not sys.warnoptions:\n",
    "    import warnings\n",
    "    warnings.simplefilter('ignore')"
   ]
  },
  {
   "cell_type": "markdown",
   "id": "3a7c61b8-4d5c-48ad-86c2-4cfb5fd6019a",
   "metadata": {},
   "source": [
    "## Audio- und Label-Dateien Laden"
   ]
  },
  {
   "cell_type": "code",
   "execution_count": 4,
   "id": "3c1be888-0f7d-42be-8971-1c7e2522918b",
   "metadata": {},
   "outputs": [],
   "source": [
    "# determine path to `src/data`\n",
    "cwd = os.getcwd()\n",
    "src_dir = os.path.join(cwd, os.pardir)\n",
    "data_dir = os.path.join(src_dir, 'data')\n",
    "\n",
    "# load files\n",
    "data_file_paths = load_data(data_dir)"
   ]
  },
  {
   "cell_type": "markdown",
   "id": "6f20dc89-0bbe-4209-8c62-f4a96c65746a",
   "metadata": {},
   "source": [
    "## Feature Matrix mit Label-Vektor erstellen\n",
    "\n",
    "Die Audiodatein werden anhand der Label in Abschnitte mit und ohne Pfiff aufgeteilt. Zusätzlich wird ein Vektor für die Label mit 1 für \"Mit Pfiff\" oder 0 \"ohne Pfiff\" erstellt"
   ]
  },
  {
   "cell_type": "code",
   "execution_count": 5,
   "id": "72e7f00d-247b-48b7-914c-84fe706a605e",
   "metadata": {},
   "outputs": [],
   "source": [
    "feature_matrix = []\n",
    "labels = []\n",
    "\n",
    "max_iter = 3\n",
    "\n",
    "for file in data_file_paths[:max_iter]:\n",
    "    base = os.path.splitext(file)[0]\n",
    "    extension = os.path.splitext(file)[1]\n",
    "    \n",
    "    if extension == '.flac' and os.path.isfile(base + '.csv'):\n",
    "        label_file = pd.read_csv(base + '.csv')\n",
    "        for index, row in label_file.iterrows():\n",
    "            start = row['start']\n",
    "            if start < 0: start = 0\n",
    "            end = row['end']\n",
    "            duration = end - start\n",
    "            \n",
    "            if duration <= 0:\n",
    "                print(file)\n",
    "                print(f'In row {index}')\n",
    "                continue\n",
    "            \n",
    "            waveform, sample_rate = librosa.load(\n",
    "                file,\n",
    "                sr=None,    # do not resample file\n",
    "                mono=True,\n",
    "                offset=start,\n",
    "                duration=duration)\n",
    "            \n",
    "            feature_matrix.append(fft(waveform))\n",
    "            labels.append(-1 if (row['label'] == 'No_Whistle') else 1)"
   ]
  },
  {
   "cell_type": "code",
   "execution_count": 6,
   "id": "34cb8781-2ac1-470e-b8fd-992600d02530",
   "metadata": {},
   "outputs": [],
   "source": [
    "# print(labels[:20])\n",
    "# print(feature_matrix[:20])"
   ]
  }
 ],
 "metadata": {
  "kernelspec": {
   "display_name": "Python 3 (ipykernel)",
   "language": "python",
   "name": "python3"
  },
  "language_info": {
   "codemirror_mode": {
    "name": "ipython",
    "version": 3
   },
   "file_extension": ".py",
   "mimetype": "text/x-python",
   "name": "python",
   "nbconvert_exporter": "python",
   "pygments_lexer": "ipython3",
   "version": "3.11.9"
  }
 },
 "nbformat": 4,
 "nbformat_minor": 5
}
