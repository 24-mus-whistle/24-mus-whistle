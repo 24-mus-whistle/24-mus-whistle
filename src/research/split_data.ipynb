{
 "cells": [
  {
   "cell_type": "markdown",
   "id": "f157ef27",
   "metadata": {},
   "source": [
    "# Split Data According to Label Rows\n",
    "\n",
    "Split each `.flac` file according to it's `.csv`, i.e. create a feature for each row in the `.csv` with the corresponding label.\n",
    "Label is `-1` if there was no whistle and `1` else."
   ]
  },
  {
   "cell_type": "code",
   "execution_count": 14,
   "id": "82f7a509-72a5-438a-a815-ffce2eb1121d",
   "metadata": {},
   "outputs": [],
   "source": [
    "import librosa\n",
    "import numpy as np\n",
    "np.set_printoptions(precision=4, suppress=True)\n",
    "import os\n",
    "import pandas as pd\n",
    "from scipy.fftpack import fft, fftfreq\n",
    "import soundfile as sf\n",
    "\n",
    "import sys\n",
    "sys.path.append(os.pardir)\n",
    "from helper.load_data import load_data"
   ]
  },
  {
   "cell_type": "code",
   "execution_count": 2,
   "id": "69a9ed9f",
   "metadata": {},
   "outputs": [],
   "source": [
    "# do not print warnings\n",
    "if not sys.warnoptions:\n",
    "    import warnings\n",
    "    warnings.simplefilter('ignore')"
   ]
  },
  {
   "cell_type": "code",
   "execution_count": 15,
   "id": "3c1be888-0f7d-42be-8971-1c7e2522918b",
   "metadata": {},
   "outputs": [],
   "source": [
    "# determine path to `src/data`\n",
    "cwd = os.getcwd()\n",
    "src_dir = os.path.join(cwd, os.pardir)\n",
    "data_dir = os.path.join(src_dir, 'data')\n",
    "\n",
    "# load files\n",
    "data_file_paths = load_data(data_dir)"
   ]
  },
  {
   "cell_type": "code",
   "execution_count": 16,
   "id": "72e7f00d-247b-48b7-914c-84fe706a605e",
   "metadata": {},
   "outputs": [],
   "source": [
    "feature_matrix = []\n",
    "labels = []\n",
    "\n",
    "max_iter = 3\n",
    "\n",
    "for file in data_file_paths[:max_iter]:\n",
    "    base = os.path.splitext(file)[0]\n",
    "    extension = os.path.splitext(file)[1]\n",
    "    \n",
    "    if extension == '.flac' and os.path.isfile(base + '.csv'):\n",
    "        label_file = pd.read_csv(base + '.csv')\n",
    "        for index, row in label_file.iterrows():\n",
    "            start = row['start']\n",
    "            if start < 0: start = 0\n",
    "            end = row['end']\n",
    "            duration = end - start\n",
    "            \n",
    "            if duration <= 0:\n",
    "                print(file)\n",
    "                print(f'In row {index}')\n",
    "                continue\n",
    "            \n",
    "            waveform, sample_rate = librosa.load(\n",
    "                file,\n",
    "                sr=None,    # do not resample file\n",
    "                mono=True,\n",
    "                offset=start,\n",
    "                duration=duration)\n",
    "            \n",
    "            feature_matrix.append(fft(waveform))\n",
    "            labels.append(-1 if (row['label'] == 'No_Whistle') else 1)"
   ]
  },
  {
   "cell_type": "code",
   "execution_count": null,
   "id": "e1bb6aa9",
   "metadata": {},
   "outputs": [],
   "source": [
    "def get_feature_and_label_matrix(\n",
    "    data_file_paths: list[str],\n",
    "    label_converter,\n",
    "    max_files: int = None\n",
    ") -> list(np.ndarray):\n",
    "    paths = []\n",
    "    if max_files is None:\n",
    "        paths = data_file_paths\n",
    "    else:\n",
    "        paths = data_file_paths[max_files]\n",
    "\n",
    "    for file in paths:\n",
    "        \n",
    "    "
   ]
  },
  {
   "cell_type": "code",
   "execution_count": 13,
   "id": "34cb8781-2ac1-470e-b8fd-992600d02530",
   "metadata": {},
   "outputs": [],
   "source": [
    "# print(labels[:20])\n",
    "# print(feature_matrix[:20])"
   ]
  },
  {
   "cell_type": "code",
   "execution_count": 18,
   "id": "3835af83",
   "metadata": {},
   "outputs": [
    {
     "data": {
      "text/plain": [
       "numpy.ndarray"
      ]
     },
     "execution_count": 18,
     "metadata": {},
     "output_type": "execute_result"
    }
   ],
   "source": [
    "type(feature_matrix[0])"
   ]
  }
 ],
 "metadata": {
  "kernelspec": {
   "display_name": ".venv",
   "language": "python",
   "name": "python3"
  },
  "language_info": {
   "codemirror_mode": {
    "name": "ipython",
    "version": 3
   },
   "file_extension": ".py",
   "mimetype": "text/x-python",
   "name": "python",
   "nbconvert_exporter": "python",
   "pygments_lexer": "ipython3",
   "version": "3.11.9"
  }
 },
 "nbformat": 4,
 "nbformat_minor": 5
}
