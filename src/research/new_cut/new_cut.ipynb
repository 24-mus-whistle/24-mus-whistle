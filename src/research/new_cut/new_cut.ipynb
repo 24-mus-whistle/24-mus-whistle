{
 "cells": [
  {
   "cell_type": "markdown",
   "metadata": {},
   "source": [
    "# A New Approach: Cut Audio Files in 1 Second Snippets\n",
    "\n",
    "- Cut audio files in 1 second snippets.\n",
    "- Label correspondingly.\n",
    "- Explanation of new approach: 🔗 [`new_cut_approach.pdf`](new_cut_approach.pdf)\n",
    "  and `cut_labels` method below"
   ]
  },
  {
   "cell_type": "code",
   "execution_count": 1,
   "metadata": {},
   "outputs": [],
   "source": [
    "# adjust as necessary (None → all files)\n",
    "max_file_count = None\n",
    "none_replacement = 'all'\n",
    "\n",
    "SAMPLE_RATE = 22_050    # 22.05 kHz (default)\n",
    "SNIPPET_DURATION = 1\n",
    "\n",
    "LABEL_NO_WHISTLE = -1\n",
    "LABEL_WHISTLE = 1\n",
    "\n",
    "LABEL_THRESHOLD = 0.1"
   ]
  },
  {
   "cell_type": "markdown",
   "metadata": {},
   "source": [
    "## Load Original Audio and Label Files"
   ]
  },
  {
   "cell_type": "code",
   "execution_count": 2,
   "metadata": {},
   "outputs": [],
   "source": [
    "import os\n",
    "import sys\n",
    "sys.path.append(os.path.join(os.pardir, os.pardir))\n",
    "from helper.load_data import load_data"
   ]
  },
  {
   "cell_type": "code",
   "execution_count": 3,
   "metadata": {},
   "outputs": [],
   "source": [
    "# determine path to `src/data`\n",
    "cwd = os.getcwd()\n",
    "src_dir = os.path.join(cwd, os.path.join(os.pardir, os.pardir))\n",
    "data_dir = os.path.join(src_dir, 'data')\n",
    "\n",
    "# load files\n",
    "data_file_paths = load_data(data_dir)"
   ]
  },
  {
   "cell_type": "code",
   "execution_count": 4,
   "metadata": {},
   "outputs": [],
   "source": [
    "if max_file_count is not None:\n",
    "    max_file_count = min(max_file_count, len(data_file_paths))"
   ]
  },
  {
   "cell_type": "code",
   "execution_count": 5,
   "metadata": {},
   "outputs": [],
   "source": [
    "# do not print warnings\n",
    "if not sys.warnoptions:\n",
    "    import warnings\n",
    "    warnings.simplefilter('ignore')"
   ]
  },
  {
   "cell_type": "markdown",
   "metadata": {},
   "source": [
    "## Waveform Function"
   ]
  },
  {
   "cell_type": "code",
   "execution_count": 6,
   "metadata": {},
   "outputs": [],
   "source": [
    "import librosa\n",
    "import numpy as np\n",
    "\n",
    "def get_waveform_and_cut(audio_file_path, snippet_duration=1):\n",
    "    audio_snippets = []\n",
    "    \n",
    "    waveform, sr = librosa.load(\n",
    "        audio_file_path,\n",
    "        sr=SAMPLE_RATE,\n",
    "        mono=True)\n",
    "\n",
    "    samples_per_snippet = int(snippet_duration * SAMPLE_RATE)\n",
    "    \n",
    "    for i in range(0, len(waveform) - samples_per_snippet, samples_per_snippet):\n",
    "        start = i\n",
    "        end = i + samples_per_snippet\n",
    "        audio_snippets.append(waveform[start : end])\n",
    "    \n",
    "    return np.array(audio_snippets)"
   ]
  },
  {
   "cell_type": "markdown",
   "metadata": {},
   "source": [
    "## Label Functions"
   ]
  },
  {
   "cell_type": "code",
   "execution_count": 7,
   "metadata": {},
   "outputs": [],
   "source": [
    "def get_label(label_str):\n",
    "    return LABEL_NO_WHISTLE if (label_str == 'No_Whistle') else LABEL_WHISTLE"
   ]
  },
  {
   "cell_type": "code",
   "execution_count": 8,
   "metadata": {},
   "outputs": [],
   "source": [
    "def log(msg, print_debug):\n",
    "    if print_debug:\n",
    "        print(msg)"
   ]
  },
  {
   "cell_type": "code",
   "execution_count": 9,
   "metadata": {},
   "outputs": [],
   "source": [
    "from math import floor\n",
    "import pandas as pd\n",
    "\n",
    "def cut_labels(label_file_path, len_audio_snippets, snippet_duration=1, print_debug=False):\n",
    "    labels = [LABEL_NO_WHISTLE] * len_audio_snippets\n",
    "    to_remove = []\n",
    "    \n",
    "    label_df = pd.read_csv(label_file_path)\n",
    "    for index, row in label_df.iterrows():\n",
    "        l = get_label(row['label'])\n",
    "        \n",
    "        if l == LABEL_NO_WHISTLE:\n",
    "            continue\n",
    "        \n",
    "        # looking at whistle\n",
    "        start = row['start']\n",
    "        end = row['end']\n",
    "        \n",
    "        log(f'Whistle from {start:.3f} to {end:.3f}', print_debug)\n",
    "        \n",
    "        duration_start_sec = 1 - round(start % 1, 3)\n",
    "        duration_end_sec = round(end % 1, 3)\n",
    "        \n",
    "        start_sec = floor(start)\n",
    "        end_sec = floor(end)\n",
    "        \n",
    "        if duration_start_sec >= LABEL_THRESHOLD:\n",
    "            # whole second of start is whistle\n",
    "            labels[start_sec] = LABEL_WHISTLE\n",
    "            log(f'added to {start_sec}', print_debug)\n",
    "        else:\n",
    "            # whistle but too short in start second → remove start second\n",
    "            to_remove.append(start_sec)\n",
    "            log(f'removed {start_sec}', print_debug)\n",
    "        \n",
    "        if duration_end_sec >= LABEL_THRESHOLD:\n",
    "            # whole second of end is whistle\n",
    "            labels[end_sec] = LABEL_WHISTLE\n",
    "            log(f'added to {end_sec}', print_debug)\n",
    "        else:\n",
    "            # whistle but too short in end second → remove end second\n",
    "            to_remove.append(end_sec)\n",
    "            log(f'removed {end_sec}', print_debug)\n",
    "        log('', print_debug)\n",
    "    \n",
    "    return np.array(labels), to_remove"
   ]
  },
  {
   "cell_type": "markdown",
   "metadata": {},
   "source": [
    "### Debug print from `cut_labels`\n",
    "\n",
    "```\n",
    "Whistle from 144.352 to 144.559\n",
    "added to 144\n",
    "added to 144\n",
    "\n",
    "Whistle from 357.588 to 357.948\n",
    "added to 357\n",
    "added to 357\n",
    "\n",
    "Whistle from 504.216 to 504.668\n",
    "added to 504\n",
    "added to 504\n",
    "\n",
    "Whistle from 581.950 to 582.118\n",
    "removed 581\n",
    "added to 582\n",
    "\n",
    "Whistle from 611.612 to 611.736\n",
    "added to 611\n",
    "added to 611\n",
    "\n",
    "Whistle from 745.607 to 745.667\n",
    "added to 745\n",
    "added to 745\n",
    "\n",
    "Whistle from 746.250 to 746.306\n",
    "added to 746\n",
    "added to 746\n",
    "```"
   ]
  },
  {
   "cell_type": "markdown",
   "metadata": {},
   "source": [
    "## Cut Function"
   ]
  },
  {
   "cell_type": "code",
   "execution_count": 10,
   "metadata": {},
   "outputs": [],
   "source": [
    "def cut(file_path, csv_path, snippet_duration=1):\n",
    "    global real_whistle_count\n",
    "    \n",
    "    audio_snippets = get_waveform_and_cut(file_path, snippet_duration=snippet_duration)\n",
    "    labels, to_remove = cut_labels(csv_path, len(audio_snippets), snippet_duration=1, print_debug=False)\n",
    "    \n",
    "    # remove too short whistle data\n",
    "    audio_snippets = np.delete(audio_snippets, to_remove, axis=0)\n",
    "    labels = np.delete(labels, to_remove)\n",
    "    \n",
    "    return audio_snippets, labels"
   ]
  },
  {
   "cell_type": "markdown",
   "metadata": {},
   "source": [
    "## Actual Cut"
   ]
  },
  {
   "cell_type": "code",
   "execution_count": 11,
   "metadata": {},
   "outputs": [
    {
     "name": "stderr",
     "output_type": "stream",
     "text": [
      "100%|██████████| 120/120 [02:13<00:00,  1.12s/file]\n"
     ]
    }
   ],
   "source": [
    "from tqdm import tqdm\n",
    "\n",
    "waveforms = []\n",
    "labels = []\n",
    "\n",
    "paths = data_file_paths[:max_file_count] if max_file_count is not None else data_file_paths\n",
    "\n",
    "for file in tqdm(paths, unit='file'):\n",
    "    base = os.path.splitext(file)[0]\n",
    "    extension = os.path.splitext(file)[1]\n",
    "    \n",
    "    csv_path = base + '.csv'\n",
    "    if extension == '.flac' and os.path.isfile(csv_path):\n",
    "        audio, label = cut(file, csv_path, SNIPPET_DURATION)\n",
    "        for a in audio:\n",
    "            waveforms.append(a)\n",
    "        for l in label:\n",
    "            labels.append(l)\n",
    "\n",
    "waveforms = np.array(waveforms)\n",
    "labels = np.array(labels)"
   ]
  },
  {
   "cell_type": "code",
   "execution_count": 12,
   "metadata": {},
   "outputs": [
    {
     "name": "stdout",
     "output_type": "stream",
     "text": [
      "(39622, 22050)\n",
      "(39622,)\n"
     ]
    }
   ],
   "source": [
    "print(waveforms.shape)\n",
    "print(labels.shape)"
   ]
  },
  {
   "cell_type": "markdown",
   "metadata": {},
   "source": [
    "## Save Arrays"
   ]
  },
  {
   "cell_type": "code",
   "execution_count": 13,
   "metadata": {},
   "outputs": [],
   "source": [
    "np.save(f'waveform_new_cut_{max_file_count or none_replacement}.npy', waveforms)\n",
    "np.save(f'labels_new_cut_{max_file_count or none_replacement}.npy', labels)"
   ]
  }
 ],
 "metadata": {
  "kernelspec": {
   "display_name": ".venv",
   "language": "python",
   "name": "python3"
  },
  "language_info": {
   "codemirror_mode": {
    "name": "ipython",
    "version": 3
   },
   "file_extension": ".py",
   "mimetype": "text/x-python",
   "name": "python",
   "nbconvert_exporter": "python",
   "pygments_lexer": "ipython3",
   "version": "3.11.9"
  }
 },
 "nbformat": 4,
 "nbformat_minor": 2
}
