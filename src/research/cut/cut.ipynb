{
 "cells": [
  {
   "cell_type": "markdown",
   "metadata": {},
   "source": [
    "# Audio-Dateien in 1-Sekunden-Schnipsel schneiden"
   ]
  },
  {
   "cell_type": "code",
   "execution_count": 1,
   "metadata": {},
   "outputs": [],
   "source": [
    "# adjust as necessary (None → all files)\n",
    "max_file_count = None\n",
    "none_replacement = 'all'\n",
    "\n",
    "SAMPLE_RATE = 22_050    # 22.05 kHz (default)\n",
    "\n",
    "LABEL_NO_WHISTLE = -1\n",
    "LABEL_WHISTLE = 1"
   ]
  },
  {
   "cell_type": "code",
   "execution_count": 2,
   "metadata": {},
   "outputs": [],
   "source": [
    "import os\n",
    "import sys\n",
    "sys.path.append(os.path.join(os.pardir, os.pardir))\n",
    "from helper.load_data import load_data\n",
    "\n",
    "# determine path to `src/data`\n",
    "cwd = os.getcwd()\n",
    "src_dir = os.path.join(cwd, os.path.join(os.pardir, os.pardir))\n",
    "data_dir = os.path.join(src_dir, 'data')\n",
    "\n",
    "# load files\n",
    "data_file_paths = load_data(data_dir)"
   ]
  },
  {
   "cell_type": "code",
   "execution_count": 3,
   "metadata": {},
   "outputs": [],
   "source": [
    "if max_file_count is not None:\n",
    "    max_file_count = min(max_file_count, len(data_file_paths))"
   ]
  },
  {
   "cell_type": "code",
   "execution_count": 4,
   "metadata": {},
   "outputs": [],
   "source": [
    "# do not print warnings\n",
    "if not sys.warnoptions:\n",
    "    import warnings\n",
    "    warnings.simplefilter('ignore')"
   ]
  },
  {
   "cell_type": "code",
   "execution_count": 5,
   "metadata": {},
   "outputs": [],
   "source": [
    "def get_label(label_str):\n",
    "    return LABEL_NO_WHISTLE if (label_str == 'No_Whistle') else LABEL_WHISTLE"
   ]
  },
  {
   "cell_type": "markdown",
   "metadata": {},
   "source": [
    "- time frame of whistles are usually shorter than 1 second\n",
    "    - observation: mostly less than 0.4 seconds\n",
    "- if rounding `start` and `end` values, duration will often be 0 seconds\n",
    "    - e.g. $(\\text{start},~\\text{end}) = (5.1,~5.4) \\approx (5,~5)$ $\\Rightarrow$ will be dismissed\n",
    "- therefore, we introduce a `THRESHOLD` constant of 0.1 seconds\n",
    "- see `round_start(time)` and `round_end(time)`"
   ]
  },
  {
   "cell_type": "code",
   "execution_count": 6,
   "metadata": {},
   "outputs": [],
   "source": [
    "from math import floor, ceil\n",
    "\n",
    "THRESHOLD = 0.1\n",
    "\n",
    "def round_start(time):\n",
    "    diff = round(time % 1, 4)\n",
    "    if diff > 1 - THRESHOLD:\n",
    "        # start > x.9\n",
    "        return ceil(time)\n",
    "    else:\n",
    "        # start < x.9\n",
    "        return max(0, floor(time))\n",
    "\n",
    "def round_end(time):\n",
    "    diff = round(time % 1, 4)\n",
    "    if diff < THRESHOLD:\n",
    "        # < 0.05\n",
    "        return max(0, floor(time))\n",
    "    else:\n",
    "        # > 0.05\n",
    "        return ceil(time)"
   ]
  },
  {
   "cell_type": "code",
   "execution_count": 7,
   "metadata": {},
   "outputs": [],
   "source": [
    "import librosa\n",
    "import numpy as np\n",
    "import pandas as pd\n",
    "\n",
    "real_whistle_count = 0\n",
    "\n",
    "def cut(file_path, csv_path, snippet_duration = 1):\n",
    "    global real_whistle_count\n",
    "    \n",
    "    label_df = pd.read_csv(csv_path)\n",
    "    \n",
    "    audio_snippets = []\n",
    "    \n",
    "    waveform, sr = librosa.load(\n",
    "        file_path,\n",
    "        sr=SAMPLE_RATE,\n",
    "        mono=True)\n",
    "    \n",
    "    samples_per_snippet = int(snippet_duration * SAMPLE_RATE)\n",
    "    \n",
    "    for i in range(0, len(waveform) - samples_per_snippet, samples_per_snippet):\n",
    "        start = i\n",
    "        end = i + samples_per_snippet\n",
    "        audio_snippets.append(waveform[start : end])\n",
    "    \n",
    "    label_snippets = [LABEL_NO_WHISTLE] * len(audio_snippets)\n",
    "    \n",
    "    label_df = pd.read_csv(csv_path)\n",
    "    for index, row in label_df.iterrows():\n",
    "        start = row['start']\n",
    "        end = row['end']\n",
    "        label = get_label(row['label'])\n",
    "        \n",
    "        if label == LABEL_WHISTLE:\n",
    "            real_whistle_count += 1\n",
    "            start = round_start(start)\n",
    "            end = round_end(end)\n",
    "        else:\n",
    "            start = round(start)\n",
    "            end = round(start)\n",
    "        \n",
    "        for sec in range(start, end, 1):\n",
    "            if sec >= len(label_snippets):\n",
    "                assert label != LABEL_WHISTLE, f'{file} in row {index}'\n",
    "                break\n",
    "            label_snippets[sec] = label\n",
    "            \n",
    "    return np.array(audio_snippets), np.array(label_snippets)"
   ]
  },
  {
   "cell_type": "code",
   "execution_count": 8,
   "metadata": {},
   "outputs": [
    {
     "name": "stderr",
     "output_type": "stream",
     "text": [
      "100%|██████████| 120/120 [02:02<00:00,  1.02s/file]\n"
     ]
    }
   ],
   "source": [
    "from tqdm import tqdm\n",
    "\n",
    "audio_data = []\n",
    "labels = []\n",
    "\n",
    "paths = data_file_paths[:max_file_count] if max_file_count is not None else data_file_paths\n",
    "\n",
    "for file in tqdm(paths, unit='file'):\n",
    "    base = os.path.splitext(file)[0]\n",
    "    extension = os.path.splitext(file)[1]\n",
    "    \n",
    "    csv_path = base + '.csv'\n",
    "    if extension == '.flac' and os.path.isfile(csv_path):\n",
    "        audio, label = cut(file, csv_path)\n",
    "        for a in audio:\n",
    "            audio_data.append(a)\n",
    "        for l in label:\n",
    "            labels.append(l)\n",
    "\n",
    "audio_data = np.array(audio_data)\n",
    "labels = np.array(labels)\n",
    "\n",
    "np.save(f'waveform_{max_file_count or none_replacement}.npy', audio_data)\n",
    "np.save(f'labels_{max_file_count or none_replacement}.npy', labels)"
   ]
  },
  {
   "cell_type": "code",
   "execution_count": 9,
   "metadata": {},
   "outputs": [
    {
     "name": "stdout",
     "output_type": "stream",
     "text": [
      "(39704, 22050)\n",
      "(39704,)\n"
     ]
    }
   ],
   "source": [
    "print(audio_data.shape)\n",
    "print(labels.shape)"
   ]
  },
  {
   "cell_type": "code",
   "execution_count": 10,
   "metadata": {},
   "outputs": [
    {
     "name": "stdout",
     "output_type": "stream",
     "text": [
      "#whistles in cut data:      359\n",
      "#whistles in original data: 355\n"
     ]
    }
   ],
   "source": [
    "print(f'#whistles in cut data:      {labels[labels == LABEL_WHISTLE].shape[0]}')\n",
    "print(f'#whistles in original data: {real_whistle_count}')"
   ]
  },
  {
   "cell_type": "markdown",
   "metadata": {},
   "source": [
    "Es ist erkennbar, dass durch die Rundungsfehler weniger `whistle`-Label in den geschnittenen\n",
    "Daten vorliegen als ursprünglich."
   ]
  }
 ],
 "metadata": {
  "kernelspec": {
   "display_name": ".venv",
   "language": "python",
   "name": "python3"
  },
  "language_info": {
   "codemirror_mode": {
    "name": "ipython",
    "version": 3
   },
   "file_extension": ".py",
   "mimetype": "text/x-python",
   "name": "python",
   "nbconvert_exporter": "python",
   "pygments_lexer": "ipython3",
   "version": "3.11.9"
  }
 },
 "nbformat": 4,
 "nbformat_minor": 2
}
