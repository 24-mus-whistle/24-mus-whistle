{
 "cells": [
  {
   "cell_type": "code",
   "execution_count": 1,
   "id": "82f7a509-72a5-438a-a815-ffce2eb1121d",
   "metadata": {},
   "outputs": [],
   "source": [
    "import os\n",
    "#os.environ['TF_CPP_MIN_LOG_LEVEL'] = '2'\n",
    "#import tensorflow\n",
    "import soundfile as sf\n",
    "import matplotlib.pyplot as plt\n",
    "import json\n",
    "from scipy.fftpack import fft, fftfreq\n",
    "import librosa\n",
    "import numpy as np\n",
    "np.set_printoptions(precision=4, suppress=True)\n",
    "import os\n",
    "import pandas as pd"
   ]
  },
  {
   "cell_type": "markdown",
   "id": "27387d5e-ec8e-4913-a392-2af7bd79bfd2",
   "metadata": {},
   "source": [
    "## Daten einlesen\n",
    "siehe librosa_files"
   ]
  },
  {
   "cell_type": "code",
   "execution_count": 2,
   "id": "3c1be888-0f7d-42be-8971-1c7e2522918b",
   "metadata": {},
   "outputs": [],
   "source": [
    "# determine path to `src/data`\n",
    "cwd = os.getcwd()\n",
    "src_dir = os.path.join(cwd, os.pardir)\n",
    "data_dir = os.path.join(src_dir, 'data')\n",
    "\n",
    "# get absolute paths for each file in `src/data`\n",
    "data_file_paths = map(\n",
    "    lambda file: os.path.join(data_dir, file),\n",
    "    os.listdir(data_dir)\n",
    ")\n",
    "data_file_paths = list(data_file_paths)"
   ]
  },
  {
   "cell_type": "code",
   "execution_count": 3,
   "id": "72e7f00d-247b-48b7-914c-84fe706a605e",
   "metadata": {},
   "outputs": [],
   "source": [
    "feature_matrix = []\n",
    "labels = []\n",
    "\n",
    "max_iter = 10\n",
    "\n",
    "for file in data_file_paths[:max_iter]:\n",
    "    base = os.path.splitext(file)[0]\n",
    "    extension = os.path.splitext(file)[1]\n",
    "    \n",
    "    if extension == '.flac' and os.path.isfile(base + '.csv'):\n",
    "        label_file = pd.read_csv(base + '.csv')\n",
    "        for index, row in label_file.iterrows():\n",
    "            start = row['start']\n",
    "            if start < 0: start = 0\n",
    "            end = row['end']\n",
    "            duration = end - start\n",
    "            \n",
    "            if duration <= 0:\n",
    "                print(file)\n",
    "                print(f'In row {index}')\n",
    "                continue\n",
    "            \n",
    "            waveform, sample_rate = librosa.load(\n",
    "                file,\n",
    "                sr=None,    # do not resample file\n",
    "                mono=True,\n",
    "                offset=start,\n",
    "                duration=duration)\n",
    "            \n",
    "            feature_matrix.append([fft(waveform), fftfreq(waveform.size, 1/sample_rate)])\n",
    "            labels.append(-1 if (row['label'] == 'No_Whistle') else 1)"
   ]
  },
  {
   "cell_type": "code",
   "execution_count": 4,
   "id": "0d1b8214-e5bf-4fa5-9108-71e8330e8866",
   "metadata": {},
   "outputs": [
    {
     "name": "stderr",
     "output_type": "stream",
     "text": [
      "/home/johann/Dokumente/Studium/Master/2.Semester/Mustererkennung/24-mus-whistle/src/.venv/lib/python3.11/site-packages/numpy/lib/function_base.py:520: RuntimeWarning: Mean of empty slice.\n",
      "  avg = a.mean(axis, **keepdims_kw)\n",
      "/home/johann/Dokumente/Studium/Master/2.Semester/Mustererkennung/24-mus-whistle/src/.venv/lib/python3.11/site-packages/numpy/core/_methods.py:129: RuntimeWarning: invalid value encountered in divide\n",
      "  ret = ret.dtype.type(ret / rcount)\n"
     ]
    },
    {
     "data": {
      "image/png": "[encoded data removed]",
      "text/plain": [
       "<Figure size 640x480 with 1 Axes>"
      ]
     },
     "metadata": {},
     "output_type": "display_data"
    }
   ],
   "source": [
    "xs = []\n",
    "for feature in feature_matrix:\n",
    "    xs.append([np.average(np.abs(feature[0][x])) for x in np.where((feature[1] >= 20) & (feature[1] <= 30))])\n",
    "\n",
    "ys = []\n",
    "for feature in feature_matrix:\n",
    "    ys.append([np.average(np.abs(feature[0][x])) for x in np.where((feature[1] >= 30) & (feature[1] <= 40))])\n",
    "    \n",
    "plt.scatter(xs,ys,c=labels)\n",
    "plt.show()"
   ]
  },
  {
   "cell_type": "code",
   "execution_count": null,
   "id": "bd25ad66-f103-445a-b33e-09eb2dfd6551",
   "metadata": {},
   "outputs": [],
   "source": []
  }
 ],
 "metadata": {
  "kernelspec": {
   "display_name": ".venv",
   "language": "python",
   "name": ".venv"
  },
  "language_info": {
   "codemirror_mode": {
    "name": "ipython",
    "version": 3
   },
   "file_extension": ".py",
   "mimetype": "text/x-python",
   "name": "python",
   "nbconvert_exporter": "python",
   "pygments_lexer": "ipython3",
   "version": "3.11.9"
  }
 },
 "nbformat": 4,
 "nbformat_minor": 5
}
