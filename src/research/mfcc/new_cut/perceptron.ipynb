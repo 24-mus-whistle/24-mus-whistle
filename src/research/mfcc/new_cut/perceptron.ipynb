{
 "cells": [
  {
   "cell_type": "markdown",
   "id": "7f2c8b02",
   "metadata": {},
   "source": [
    "# Perzeptron for MFCC"
   ]
  },
  {
   "cell_type": "code",
   "execution_count": 1,
   "id": "ab3055e1",
   "metadata": {},
   "outputs": [],
   "source": [
    "max_file_count = None\n",
    "none_replacement = 'all'\n",
    "\n",
    "RANDOM_STATE = 42"
   ]
  },
  {
   "cell_type": "markdown",
   "id": "f70b9e40",
   "metadata": {},
   "source": [
    "## MFCC Daten laden\n",
    "\n",
    "🔗 siehe [generate.ipynb](generate.ipynb)"
   ]
  },
  {
   "cell_type": "code",
   "execution_count": 2,
   "id": "976a0c83",
   "metadata": {},
   "outputs": [],
   "source": [
    "import numpy as np\n",
    "\n",
    "feature_matrix = np.load(f'feature_{max_file_count or none_replacement}.npy')\n",
    "labels = np.load(f'labels_{max_file_count or none_replacement}.npy')"
   ]
  },
  {
   "cell_type": "markdown",
   "id": "929096d7",
   "metadata": {},
   "source": [
    "## Aufteilung in Trainings- und Testdaten"
   ]
  },
  {
   "cell_type": "code",
   "execution_count": 3,
   "id": "34cb8781-2ac1-470e-b8fd-992600d02530",
   "metadata": {},
   "outputs": [],
   "source": [
    "from sklearn.model_selection import train_test_split\n",
    "\n",
    "X_train, X_test, y_train, y_test = train_test_split(np.abs(feature_matrix), labels, test_size=0.2,\n",
    "                                                    random_state=RANDOM_STATE)"
   ]
  },
  {
   "cell_type": "code",
   "execution_count": 4,
   "id": "eee50352",
   "metadata": {},
   "outputs": [
    {
     "name": "stdout",
     "output_type": "stream",
     "text": [
      "(31697, 880)\n",
      "(7925, 880)\n"
     ]
    }
   ],
   "source": [
    "print(X_train.shape)\n",
    "print(X_test.shape)"
   ]
  },
  {
   "cell_type": "markdown",
   "id": "28423444",
   "metadata": {},
   "source": [
    "## Trainings des Perzeptrons"
   ]
  },
  {
   "cell_type": "code",
   "execution_count": 5,
   "id": "aa1574da",
   "metadata": {},
   "outputs": [
    {
     "name": "stdout",
     "output_type": "stream",
     "text": [
      "Execution time: 1.49s\n"
     ]
    }
   ],
   "source": [
    "from sklearn.linear_model import Perceptron\n",
    "import time\n",
    "\n",
    "start_time = time.time()\n",
    "\n",
    "model = Perceptron(n_jobs=4, random_state=RANDOM_STATE)\n",
    "model.fit(X_train, y_train)\n",
    "\n",
    "print(f'Execution time: {time.time() - start_time:.2f}s')"
   ]
  },
  {
   "cell_type": "code",
   "execution_count": 6,
   "id": "40c2b6b8",
   "metadata": {},
   "outputs": [],
   "source": [
    "import skops.io as sio\n",
    "sio.dump(model, f'perceptron_{max_file_count or none_replacement}.skops')"
   ]
  },
  {
   "cell_type": "markdown",
   "id": "e77fcefa",
   "metadata": {},
   "source": [
    "## Leistung des Modells"
   ]
  },
  {
   "cell_type": "code",
   "execution_count": 7,
   "id": "20d4308e",
   "metadata": {},
   "outputs": [],
   "source": [
    "y_test_predict = model.predict(X_test)"
   ]
  },
  {
   "cell_type": "code",
   "execution_count": 8,
   "id": "db3cd929",
   "metadata": {},
   "outputs": [
    {
     "name": "stdout",
     "output_type": "stream",
     "text": [
      "accuracy:  0.9947\n",
      "precision: 0.7460\n",
      "recall:    0.6438\n",
      "f1:        0.6912\n"
     ]
    }
   ],
   "source": [
    "from sklearn import metrics\n",
    "\n",
    "# proportion of correct predictions\n",
    "print(f'accuracy:  {metrics.accuracy_score(y_test, y_test_predict):.4f}')\n",
    "\n",
    "# proportion of true positives under all positives\n",
    "print(f'precision: {metrics.precision_score(y_test, y_test_predict):.4f}')\n",
    "\n",
    "# proportion of true positives under actually positives\n",
    "print(f'recall:    {metrics.recall_score(y_test, y_test_predict):.4f}')\n",
    "\n",
    "# total performance\n",
    "print(f'f1:        {metrics.f1_score(y_test, y_test_predict):.4f}')"
   ]
  },
  {
   "cell_type": "code",
   "execution_count": 9,
   "id": "1ae733b3",
   "metadata": {},
   "outputs": [
    {
     "name": "stdout",
     "output_type": "stream",
     "text": [
      "              precision    recall  f1-score   support\n",
      "\n",
      "          -1       1.00      1.00      1.00      7852\n",
      "           1       0.75      0.64      0.69        73\n",
      "\n",
      "    accuracy                           0.99      7925\n",
      "   macro avg       0.87      0.82      0.84      7925\n",
      "weighted avg       0.99      0.99      0.99      7925\n",
      "\n"
     ]
    }
   ],
   "source": [
    "print(metrics.classification_report(y_test, y_test_predict, zero_division=0))"
   ]
  },
  {
   "cell_type": "code",
   "execution_count": 10,
   "id": "d8d4b30c",
   "metadata": {},
   "outputs": [
    {
     "data": {
      "image/png": "[encoded data removed]",
      "text/plain": [
       "<Figure size 640x480 with 2 Axes>"
      ]
     },
     "metadata": {},
     "output_type": "display_data"
    }
   ],
   "source": [
    "_ = metrics.ConfusionMatrixDisplay.from_predictions(y_test, y_test_predict)"
   ]
  }
 ],
 "metadata": {
  "kernelspec": {
   "display_name": ".venv",
   "language": "python",
   "name": "python3"
  },
  "language_info": {
   "codemirror_mode": {
    "name": "ipython",
    "version": 3
   },
   "file_extension": ".py",
   "mimetype": "text/x-python",
   "name": "python",
   "nbconvert_exporter": "python",
   "pygments_lexer": "ipython3",
   "version": "3.11.9"
  }
 },
 "nbformat": 4,
 "nbformat_minor": 5
}
