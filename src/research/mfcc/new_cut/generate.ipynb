{
 "cells": [
  {
   "cell_type": "markdown",
   "metadata": {},
   "source": [
    "# Generate MFCC for Cut Snippets"
   ]
  },
  {
   "cell_type": "code",
   "execution_count": 1,
   "metadata": {},
   "outputs": [],
   "source": [
    "# adjust as necessary\n",
    "max_file_count = None\n",
    "none_replacement = 'all'\n",
    "\n",
    "# as specified in `src/research/cut/cut.ipynb`\n",
    "SAMPLE_RATE = 22_050    # 22.05 kHz (default)"
   ]
  },
  {
   "cell_type": "markdown",
   "metadata": {},
   "source": [
    "# Read Data\n",
    "\n",
    "Note that [`src/research/new_cut/new_cut.ipynb`](../../new_cut/new_cut.ipynb) has to be executed first!"
   ]
  },
  {
   "cell_type": "code",
   "execution_count": 3,
   "metadata": {},
   "outputs": [],
   "source": [
    "import numpy as np\n",
    "import os\n",
    "\n",
    "cut_dir = os.path.join(os.path.join(os.pardir, os.pardir), 'new_cut')\n",
    "waveform_file = os.path.join(cut_dir, f'waveform_{max_file_count or none_replacement}.npy')\n",
    "label_file = os.path.join(cut_dir, f'labels_{max_file_count or none_replacement}.npy')\n",
    "\n",
    "waveforms = np.load(waveform_file)\n",
    "labels = np.load(label_file)"
   ]
  },
  {
   "cell_type": "code",
   "execution_count": 4,
   "metadata": {},
   "outputs": [
    {
     "name": "stdout",
     "output_type": "stream",
     "text": [
      "(39622, 22050)\n",
      "(39622,)\n"
     ]
    }
   ],
   "source": [
    "print(waveforms.shape)\n",
    "print(labels.shape)"
   ]
  },
  {
   "cell_type": "markdown",
   "metadata": {},
   "source": [
    "# Generate MFCC"
   ]
  },
  {
   "cell_type": "code",
   "execution_count": 6,
   "metadata": {},
   "outputs": [],
   "source": [
    "import librosa\n",
    "\n",
    "def get_feature(waveform, sample_rate):\n",
    "    return librosa.feature.mfcc(y=waveform, sr=sample_rate, n_mfcc=1)"
   ]
  },
  {
   "cell_type": "code",
   "execution_count": 7,
   "metadata": {},
   "outputs": [
    {
     "name": "stderr",
     "output_type": "stream",
     "text": [
      "100%|██████████| 39622/39622 [03:01<00:00, 218.86snippet/s]\n"
     ]
    }
   ],
   "source": [
    "from tqdm import tqdm\n",
    "\n",
    "feature_matrix = []\n",
    "\n",
    "for index, waveform in enumerate(tqdm(waveforms, unit='snippet')):    \n",
    "    feature = get_feature(waveform, SAMPLE_RATE)\n",
    "    feature_matrix.append(feature)"
   ]
  },
  {
   "cell_type": "code",
   "execution_count": 8,
   "metadata": {},
   "outputs": [],
   "source": [
    "feature_matrix = np.array(feature_matrix).squeeze()"
   ]
  },
  {
   "cell_type": "code",
   "execution_count": 9,
   "metadata": {},
   "outputs": [],
   "source": [
    "np.save(f'feature_{max_file_count or none_replacement}.npy', feature_matrix)\n",
    "np.save(f'labels_{max_file_count or none_replacement}.npy', labels)"
   ]
  }
 ],
 "metadata": {
  "kernelspec": {
   "display_name": ".venv",
   "language": "python",
   "name": "python3"
  },
  "language_info": {
   "codemirror_mode": {
    "name": "ipython",
    "version": 3
   },
   "file_extension": ".py",
   "mimetype": "text/x-python",
   "name": "python",
   "nbconvert_exporter": "python",
   "pygments_lexer": "ipython3",
   "version": "3.11.9"
  }
 },
 "nbformat": 4,
 "nbformat_minor": 2
}
