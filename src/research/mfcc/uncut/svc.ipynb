{
 "cells": [
  {
   "cell_type": "markdown",
   "id": "f2adce0f",
   "metadata": {},
   "source": [
    "# Support Vector Maschine für MFCC"
   ]
  },
  {
   "cell_type": "code",
   "execution_count": 1,
   "id": "f55f21a1",
   "metadata": {},
   "outputs": [],
   "source": [
    "max_file_count = None\n",
    "none_replacement = 'all'\n",
    "\n",
    "RANDOM_STATE = 42"
   ]
  },
  {
   "cell_type": "markdown",
   "id": "ca6b4847",
   "metadata": {},
   "source": [
    "## MFCC-Daten laden\n",
    "\n",
    "🔗 siehe [generate.ipynb](generate.ipynb)"
   ]
  },
  {
   "cell_type": "code",
   "execution_count": 3,
   "id": "f024e5ba",
   "metadata": {},
   "outputs": [],
   "source": [
    "import numpy as np\n",
    "\n",
    "feature_matrix = np.load(f'feature_{max_file_count or none_replacement}.npy')\n",
    "labels = np.load(f'labels_{max_file_count or none_replacement}.npy')"
   ]
  },
  {
   "cell_type": "markdown",
   "id": "14564955",
   "metadata": {},
   "source": [
    "## Aufteilung in Trainings- und Test-Daten"
   ]
  },
  {
   "cell_type": "code",
   "execution_count": 4,
   "id": "34cb8781-2ac1-470e-b8fd-992600d02530",
   "metadata": {},
   "outputs": [],
   "source": [
    "from sklearn.model_selection import train_test_split\n",
    "\n",
    "X_train, X_test, y_train, y_test = train_test_split(np.abs(feature_matrix), labels,\n",
    "                                                    test_size=0.2, random_state=RANDOM_STATE)"
   ]
  },
  {
   "cell_type": "code",
   "execution_count": 5,
   "id": "eee50352",
   "metadata": {},
   "outputs": [
    {
     "name": "stdout",
     "output_type": "stream",
     "text": [
      "(805, 17704)\n",
      "(202, 17704)\n"
     ]
    }
   ],
   "source": [
    "print(X_train.shape)\n",
    "print(X_test.shape)"
   ]
  },
  {
   "cell_type": "markdown",
   "id": "929096d7",
   "metadata": {},
   "source": [
    "## Training der SVM"
   ]
  },
  {
   "cell_type": "code",
   "execution_count": 6,
   "id": "aa1574da",
   "metadata": {},
   "outputs": [
    {
     "name": "stdout",
     "output_type": "stream",
     "text": [
      "Execution time: 0.85s\n"
     ]
    }
   ],
   "source": [
    "from sklearn.svm import SVC\n",
    "import time\n",
    "\n",
    "start_time = time.time()\n",
    "\n",
    "model = SVC()\n",
    "model.fit(X_train, y_train)\n",
    "\n",
    "print(f'Execution time: {time.time() - start_time:.2f}s')"
   ]
  },
  {
   "cell_type": "code",
   "execution_count": 7,
   "id": "40c2b6b8",
   "metadata": {},
   "outputs": [],
   "source": [
    "import skops.io as sio\n",
    "sio.dump(model, f'svc_{max_file_count or none_replacement}.skops')"
   ]
  },
  {
   "cell_type": "markdown",
   "id": "e77fcefa",
   "metadata": {},
   "source": [
    "## Leistung des Modells"
   ]
  },
  {
   "cell_type": "code",
   "execution_count": 8,
   "id": "20d4308e",
   "metadata": {},
   "outputs": [],
   "source": [
    "y_test_predict = model.predict(X_test)"
   ]
  },
  {
   "cell_type": "code",
   "execution_count": 9,
   "id": "1509eed7",
   "metadata": {},
   "outputs": [
    {
     "name": "stdout",
     "output_type": "stream",
     "text": [
      "accuracy:  0.9802\n",
      "precision: 0.9540\n",
      "recall:    1.0000\n",
      "f1:        0.9765\n"
     ]
    }
   ],
   "source": [
    "from sklearn import metrics\n",
    "\n",
    "# proportion of correct predictions\n",
    "print(f'accuracy:  {metrics.accuracy_score(y_test, y_test_predict):.4f}')\n",
    "\n",
    "# proportion of true positives under all positives\n",
    "print(f'precision: {metrics.precision_score(y_test, y_test_predict, zero_division=0):.4f}')\n",
    "\n",
    "# proportion of true positives under actually positives\n",
    "print(f'recall:    {metrics.recall_score(y_test, y_test_predict):.4f}')\n",
    "\n",
    "# total performance\n",
    "print(f'f1:        {metrics.f1_score(y_test, y_test_predict):.4f}')"
   ]
  },
  {
   "cell_type": "code",
   "execution_count": 10,
   "id": "a579ec10",
   "metadata": {},
   "outputs": [
    {
     "name": "stdout",
     "output_type": "stream",
     "text": [
      "              precision    recall  f1-score   support\n",
      "\n",
      "          -1       1.00      0.97      0.98       119\n",
      "           1       0.95      1.00      0.98        83\n",
      "\n",
      "    accuracy                           0.98       202\n",
      "   macro avg       0.98      0.98      0.98       202\n",
      "weighted avg       0.98      0.98      0.98       202\n",
      "\n"
     ]
    }
   ],
   "source": [
    "print(metrics.classification_report(y_test, y_test_predict, zero_division=0))"
   ]
  },
  {
   "cell_type": "code",
   "execution_count": 11,
   "id": "5411a714",
   "metadata": {},
   "outputs": [
    {
     "data": {
      "image/png": "[encoded data removed]",
      "text/plain": [
       "<Figure size 640x480 with 2 Axes>"
      ]
     },
     "metadata": {},
     "output_type": "display_data"
    }
   ],
   "source": [
    "_ = metrics.ConfusionMatrixDisplay.from_predictions(y_test, y_test_predict)"
   ]
  }
 ],
 "metadata": {
  "kernelspec": {
   "display_name": ".venv",
   "language": "python",
   "name": "python3"
  },
  "language_info": {
   "codemirror_mode": {
    "name": "ipython",
    "version": 3
   },
   "file_extension": ".py",
   "mimetype": "text/x-python",
   "name": "python",
   "nbconvert_exporter": "python",
   "pygments_lexer": "ipython3",
   "version": "3.11.9"
  }
 },
 "nbformat": 4,
 "nbformat_minor": 5
}
