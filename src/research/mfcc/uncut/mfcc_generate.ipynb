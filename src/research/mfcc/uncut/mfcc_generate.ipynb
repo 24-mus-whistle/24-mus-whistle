{
 "cells": [
  {
   "cell_type": "markdown",
   "metadata": {},
   "source": [
    "# Generate MFCC Feature Matrix & Label"
   ]
  },
  {
   "cell_type": "code",
   "execution_count": 2,
   "metadata": {},
   "outputs": [],
   "source": [
    "# adjust as necessary\n",
    "max_file_count = 120"
   ]
  },
  {
   "cell_type": "markdown",
   "metadata": {},
   "source": [
    "# Read Data"
   ]
  },
  {
   "cell_type": "code",
   "execution_count": 1,
   "metadata": {},
   "outputs": [],
   "source": [
    "import os\n",
    "import sys\n",
    "sys.path.append(os.path.join((os.path.join(os.pardir, os.pardir)), os.pardir))\n",
    "from helper.load_data import load_data"
   ]
  },
  {
   "cell_type": "code",
   "execution_count": 4,
   "metadata": {},
   "outputs": [],
   "source": [
    "# determine path to `src/data`\n",
    "cwd = os.getcwd()\n",
    "src_dir = os.path.join(cwd, os.path.join(os.path.join(os.pardir, os.pardir), os.pardir))\n",
    "data_dir = os.path.join(src_dir, 'data')\n",
    "\n",
    "# load files\n",
    "data_file_paths = load_data(data_dir)"
   ]
  },
  {
   "cell_type": "code",
   "execution_count": 4,
   "metadata": {},
   "outputs": [],
   "source": [
    "max_file_count = min(max_file_count, len(data_file_paths)) if max_file_count is not None else None"
   ]
  },
  {
   "cell_type": "markdown",
   "metadata": {},
   "source": [
    "# Feature Matrix and Label"
   ]
  },
  {
   "cell_type": "code",
   "execution_count": 5,
   "metadata": {},
   "outputs": [],
   "source": [
    "import librosa\n",
    "import numpy as np\n",
    "np.set_printoptions(precision=4, suppress=True)\n",
    "import pandas as pd\n",
    "from tqdm import tqdm\n",
    "\n",
    "# do not print warnings\n",
    "if not sys.warnoptions:\n",
    "    import warnings\n",
    "    warnings.simplefilter('ignore')"
   ]
  },
  {
   "cell_type": "code",
   "execution_count": 6,
   "metadata": {},
   "outputs": [],
   "source": [
    "def get_feature(waveform, sample_rate):\n",
    "    return librosa.feature.mfcc(y=waveform, sr=sample_rate, n_mfcc=1)\n",
    "\n",
    "def get_label(label_str):\n",
    "    return -1 if (label_str == 'No_Whistle') else 1"
   ]
  },
  {
   "cell_type": "code",
   "execution_count": 7,
   "metadata": {},
   "outputs": [
    {
     "name": "stderr",
     "output_type": "stream",
     "text": [
      "100%|██████████| 120/120 [01:03<00:00,  1.89file/s]\n"
     ]
    }
   ],
   "source": [
    "audio_data = []\n",
    "labels = []\n",
    "\n",
    "paths = data_file_paths[:max_file_count] if max_file_count is not None else data_file_paths\n",
    "\n",
    "for file in tqdm(paths, unit='file'):\n",
    "    base = os.path.splitext(file)[0]\n",
    "    extension = os.path.splitext(file)[1]\n",
    "    \n",
    "    if extension == '.flac' and os.path.isfile(base + '.csv'):\n",
    "        # print(os.path.basename(file))\n",
    "        label_df = pd.read_csv(base + '.csv')\n",
    "\n",
    "        for index, row in label_df.iterrows():\n",
    "            start = max(0, row['start'])\n",
    "            end = row['end']\n",
    "            duration = end - start\n",
    "            \n",
    "            if duration <= 0:\n",
    "                # print(os.path.basename(file), f'in row {index}')\n",
    "                continue\n",
    "            \n",
    "            waveform, sample_rate = librosa.load(\n",
    "                file,\n",
    "                sr=None,    # do not resample file\n",
    "                mono=True,\n",
    "                offset=start,\n",
    "                duration=duration)\n",
    "            \n",
    "            audio_data.append([waveform, sample_rate])\n",
    "            \n",
    "            label = get_label(row['label'])\n",
    "            labels.append(label)"
   ]
  },
  {
   "cell_type": "code",
   "execution_count": 8,
   "metadata": {},
   "outputs": [
    {
     "name": "stdout",
     "output_type": "stream",
     "text": [
      "18128734\n"
     ]
    }
   ],
   "source": [
    "max_length = 0\n",
    "for file in audio_data:\n",
    "    waveform = file[0]\n",
    "    max_length = max(max_length, len(waveform))\n",
    "print(max_length)"
   ]
  },
  {
   "cell_type": "code",
   "execution_count": 9,
   "metadata": {},
   "outputs": [
    {
     "name": "stderr",
     "output_type": "stream",
     "text": [
      "100%|██████████| 1007/1007 [15:42<00:00,  1.07file/s]\n"
     ]
    }
   ],
   "source": [
    "feature_matrix = []\n",
    "\n",
    "for index, file in enumerate(tqdm(audio_data, unit='file')):\n",
    "    waveform = file[0]\n",
    "    sample_rate = file[1]\n",
    "    \n",
    "    padded_audio = waveform\n",
    "    if len(waveform) < max_length:\n",
    "        padded_audio = np.pad(waveform, (0, max_length - len(waveform)), mode='constant')\n",
    "    \n",
    "    feature = get_feature(padded_audio, sample_rate)\n",
    "    feature_matrix.append(feature)"
   ]
  },
  {
   "cell_type": "code",
   "execution_count": 10,
   "metadata": {},
   "outputs": [],
   "source": [
    "feature_matrix = np.array(feature_matrix).squeeze()\n",
    "labels = np.array(labels)"
   ]
  },
  {
   "cell_type": "code",
   "execution_count": 11,
   "metadata": {},
   "outputs": [],
   "source": [
    "np.save(f'mfcc_feature_{max_file_count}.npy', feature_matrix)\n",
    "np.save(f'labels_{max_file_count}.npy', labels)"
   ]
  }
 ],
 "metadata": {
  "kernelspec": {
   "display_name": ".venv",
   "language": "python",
   "name": "python3"
  },
  "language_info": {
   "codemirror_mode": {
    "name": "ipython",
    "version": 3
   },
   "file_extension": ".py",
   "mimetype": "text/x-python",
   "name": "python",
   "nbconvert_exporter": "python",
   "pygments_lexer": "ipython3",
   "version": "3.11.9"
  }
 },
 "nbformat": 4,
 "nbformat_minor": 2
}
