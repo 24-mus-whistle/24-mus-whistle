{
 "cells": [
  {
   "cell_type": "markdown",
   "id": "bacb73c7",
   "metadata": {},
   "source": [
    "# Analyse des Bias bzgl. Kein-Pfiff-Pfiff-Verhältnis für Support Vektor Maschinen\n",
    "\n",
    "In diesem Notepad analysieren wir die Leistung einer Support Vektor Maschine (SVM) basierend\n",
    "auf verschiedenen Verhältnissen der Daten ohne Pfiffe bzw. mit Pfiffe. Dies motiviert sich anhand\n",
    "der Tatsache, dass in den Datenpunkten (d.h. Sekunden) insgesamt 120-mal mehr Daten enthalten sind,\n",
    "in denen kein Pfiff zu hören ist, als Daten, in denen einer zu hören ist. Dies kann im Abschnitt\n",
    "[*Aufteilung in Trainings- und Testdaten*](#aufteilung-in-trainings--und-testdaten) nachvollzogen\n",
    "werden.\n",
    "\n",
    "Wir folgern im Folgenden, dass es eine Korrelation zwischen dem Verhältnis und der Leistung der\n",
    "SVM, gemessen an Präzision, Recall und F1-Score, gibt. Da für unsere reales Szenario die Präzision\n",
    "für die Optimierung von Interesse ist, trainieren wir das resultierende Modell mit dem für diese\n",
    "Metrik optimalen Verhältnis von 21:1."
   ]
  },
  {
   "cell_type": "markdown",
   "id": "f70b9e40",
   "metadata": {},
   "source": [
    "## Feature-Matrix und Label laden\n",
    "\n",
    "🔗 siehe [mfcc_generate.ipynb](mfcc_generate.ipynb)"
   ]
  },
  {
   "cell_type": "code",
   "execution_count": 1,
   "id": "ab3055e1",
   "metadata": {},
   "outputs": [],
   "source": [
    "max_file_count = None\n",
    "none_replacement = 'all'\n",
    "\n",
    "RANDOM_STATE = 42"
   ]
  },
  {
   "cell_type": "code",
   "execution_count": 2,
   "id": "b23ee0c7",
   "metadata": {},
   "outputs": [],
   "source": [
    "import numpy as np\n",
    "np.set_printoptions(precision=4, suppress=True)"
   ]
  },
  {
   "cell_type": "code",
   "execution_count": 3,
   "id": "976a0c83",
   "metadata": {},
   "outputs": [],
   "source": [
    "feature_matrix = np.load(f'mfcc_feature_{max_file_count or none_replacement}.npy')\n",
    "labels = np.load(f'labels_{max_file_count or none_replacement}.npy')"
   ]
  },
  {
   "cell_type": "markdown",
   "id": "929096d7",
   "metadata": {},
   "source": [
    "## Aufteilung in Trainings- und Testdaten"
   ]
  },
  {
   "cell_type": "code",
   "execution_count": 4,
   "id": "34cb8781-2ac1-470e-b8fd-992600d02530",
   "metadata": {},
   "outputs": [],
   "source": [
    "from sklearn.model_selection import train_test_split\n",
    "\n",
    "X_train, X_test, y_train, y_test = train_test_split(feature_matrix, labels,\n",
    "                                                    test_size=0.2, random_state=RANDOM_STATE)"
   ]
  },
  {
   "cell_type": "code",
   "execution_count": 5,
   "id": "eee50352",
   "metadata": {},
   "outputs": [
    {
     "name": "stdout",
     "output_type": "stream",
     "text": [
      "(31697, 44)\n",
      "(7925, 44)\n"
     ]
    }
   ],
   "source": [
    "print(X_train.shape)\n",
    "print(X_test.shape)"
   ]
  },
  {
   "cell_type": "code",
   "execution_count": 6,
   "id": "62f493e0",
   "metadata": {},
   "outputs": [],
   "source": [
    "LABEL_NO_WHISTLE = -1\n",
    "LABEL_WHISTLE = 1"
   ]
  },
  {
   "cell_type": "markdown",
   "id": "2f2a8f10",
   "metadata": {},
   "source": [
    "**Anmerkung**: Bei uns sind \"Positive\" (Label `+1`) die Daten, welche Pfiffe enthalten und die\n",
    "\"Negativen\" (Label `-1`), die Daten, welche keine enthalten."
   ]
  },
  {
   "cell_type": "code",
   "execution_count": 7,
   "id": "b7328863",
   "metadata": {},
   "outputs": [
    {
     "name": "stdout",
     "output_type": "stream",
     "text": [
      "#train whistle: 280\n",
      "#train no whistle: 31417\n",
      "==> 112x more no whistle\n"
     ]
    }
   ],
   "source": [
    "train_whistle_count = y_train[y_train == LABEL_WHISTLE].shape[0]\n",
    "train_no_whistle_count = y_train[y_train == LABEL_NO_WHISTLE].shape[0]\n",
    "factor_ratio = int(train_no_whistle_count / train_whistle_count)\n",
    "\n",
    "print(f'#train whistle: {train_whistle_count}')\n",
    "print(f'#train no whistle: {train_no_whistle_count}')\n",
    "print(f'==> {factor_ratio}x more no whistle')"
   ]
  },
  {
   "cell_type": "markdown",
   "id": "01e0b8c1",
   "metadata": {},
   "source": [
    "In der letzten Zelle ist erkennbar, dass wir 280 Daten-Punkte (d.h. Sekunden) haben, in denen\n",
    "ein Pfiff zu hören ist. Allerdings ist die Anzahl an Daten ohne Pfiff mit 31.417 signifikant höher –\n",
    "nämlich 112-mal. Daher untersuchen wir in diesem Notepad den Bias, der durch die ungleiche\n",
    "Verteilung entstehen könnte."
   ]
  },
  {
   "cell_type": "markdown",
   "id": "24c979dd",
   "metadata": {},
   "source": [
    "## Analyse des Bias bzgl. des Verhältnisses"
   ]
  },
  {
   "cell_type": "code",
   "execution_count": 10,
   "id": "93cd3f77",
   "metadata": {},
   "outputs": [
    {
     "name": "stderr",
     "output_type": "stream",
     "text": [
      "100%|██████████| 112/112 [06:40<00:00,  3.57s/it]\n"
     ]
    }
   ],
   "source": [
    "from helper import reduce_and_reshuffle\n",
    "from sklearn.svm import SVC\n",
    "from sklearn import metrics\n",
    "from tqdm import tqdm\n",
    "\n",
    "accuracies = []\n",
    "precisions = []\n",
    "recalls = []\n",
    "f1s = []\n",
    "\n",
    "# test ratio from 1:1 to 112:1\n",
    "ratio_range = np.arange(1, factor_ratio + 1)\n",
    "\n",
    "for ratio in tqdm(ratio_range):\n",
    "    X_tmp, y_tmp = reduce_and_reshuffle(X_train, y_train, ratio, RANDOM_STATE)\n",
    "    \n",
    "    model = SVC()\n",
    "    model.fit(X_tmp, y_tmp)\n",
    "    \n",
    "    y_test_predict = model.predict(X_test)\n",
    "    \n",
    "    # proportion of correct predictions\n",
    "    accuracies.append(metrics.accuracy_score(y_test, y_test_predict))\n",
    "    \n",
    "    # proportion of true positives under all positives\n",
    "    precisions.append(metrics.precision_score(y_test, y_test_predict, zero_division=0))\n",
    "    \n",
    "    # proportion of true positives under actually positives\n",
    "    recalls.append(metrics.recall_score(y_test, y_test_predict))\n",
    "    \n",
    "    # total performance\n",
    "    f1s.append(metrics.f1_score(y_test, y_test_predict))"
   ]
  },
  {
   "cell_type": "code",
   "execution_count": 11,
   "id": "440ca907",
   "metadata": {},
   "outputs": [
    {
     "name": "stdout",
     "output_type": "stream",
     "text": [
      "best f1:        0.2330 with ratio 12:1\n",
      "best recall:    0.7260 with ratio 1:1\n",
      "best precision: 1.0000 with ratio 21:1\n"
     ]
    }
   ],
   "source": [
    "ratio_best_f1 = np.argmax(f1s) + 1\n",
    "ratio_best_recall = np.argmax(recalls) + 1\n",
    "ratio_best_precision = np.argmax(precisions) + 1\n",
    "# need to add 1 since array indexing starts at 0\n",
    "\n",
    "print(f'best f1:        {np.max(f1s):.4f} with ratio {ratio_best_f1}:1')\n",
    "print(f'best recall:    {np.max(recalls):.4f} with ratio {ratio_best_recall}:1')\n",
    "print(f'best precision: {np.max(precisions):.4f} with ratio {ratio_best_precision}:1')"
   ]
  },
  {
   "cell_type": "code",
   "execution_count": 12,
   "id": "f0be16b2",
   "metadata": {},
   "outputs": [
    {
     "name": "stdout",
     "output_type": "stream",
     "text": [
      "precision at best f1:     0.40\n",
      "f1 at best precision:     0.15\n",
      "recall at best precision: 0.08\n"
     ]
    }
   ],
   "source": [
    "print(f'precision at best f1:     {precisions[ratio_best_f1 - 1]:.2f}')\n",
    "print(f'f1 at best precision:     {f1s[ratio_best_precision - 1]:.2f}')\n",
    "print(f'recall at best precision: {recalls[ratio_best_precision - 1]:.2f}')"
   ]
  },
  {
   "cell_type": "code",
   "execution_count": 13,
   "id": "df8284d8",
   "metadata": {},
   "outputs": [
    {
     "data": {
      "image/png": "[encoded data removed]",
      "text/plain": [
       "<Figure size 640x480 with 1 Axes>"
      ]
     },
     "metadata": {},
     "output_type": "display_data"
    }
   ],
   "source": [
    "import matplotlib.pyplot as plt\n",
    "\n",
    "plt.plot(ratio_range, f1s, label='f1')\n",
    "plt.legend()\n",
    "plt.title('Fig. 1: F1-Score Based on Ratio')\n",
    "plt.xlabel('Ratio of no whistle / whistle')\n",
    "plt.ylabel('Score')\n",
    "plt.show()"
   ]
  },
  {
   "cell_type": "markdown",
   "id": "6ae5de61",
   "metadata": {},
   "source": [
    "In Fig. 1 ist zu erkennen, dass ein Verhältnis von 12:1 den besten F1-Score ergibt. Im Unterschied\n",
    "zum Perzeptron und Stochastic-Gradient-Descent-Verfahren ist hier eine “schöne” Kurve zu erkennen.\n",
    "Somit kann mutgemaßt werden, dass der F1-Score, d.h. die Leistung der SVM, mit dem Verhältnis\n",
    "zwischen den Daten mit und ohne Pfiff korreliert.\n",
    "\n",
    "Dennoch ist selbst der beste F1-Score nur bei 0.2330."
   ]
  },
  {
   "cell_type": "code",
   "execution_count": 14,
   "id": "98618dce",
   "metadata": {},
   "outputs": [
    {
     "data": {
      "image/png": "[encoded data removed]",
      "text/plain": [
       "<Figure size 640x480 with 1 Axes>"
      ]
     },
     "metadata": {},
     "output_type": "display_data"
    }
   ],
   "source": [
    "import matplotlib.pyplot as plt\n",
    "\n",
    "plt.plot(ratio_range, accuracies, label='accuracies')\n",
    "plt.plot(ratio_range, precisions, label='precisions')\n",
    "plt.plot(ratio_range, recalls, label='recalls')\n",
    "plt.legend(loc='center left', bbox_to_anchor=(1, 0.5))\n",
    "plt.title('Fig. 2: Model Scores Based on Ratio')\n",
    "plt.xlabel('Ratio of no whistle / whistle')\n",
    "plt.ylabel('Score')\n",
    "plt.show()"
   ]
  },
  {
   "cell_type": "markdown",
   "id": "cc0ff415",
   "metadata": {},
   "source": [
    "In Fig. 2 ist zu erkennen, dass die Genauigkeit, d.h. der Anteil der richtigen Vorhersagen, bei fast\n",
    "allen Verhältnissen nahezu 1 ist. Es ist weiterhin erkennbar, dass die Genauigkeit mit steigenden\n",
    "Verhältnissen bis ca. 4:1 steigt, sich danach aber an die 99% anschmiegt.\n",
    "\n",
    "Die Präzision, d.h. der Anteil der richtigen Positiven unter den positiven Vorhersagen, ist hier\n",
    "auffallend. Sie steigt bis zum Verhältnis 21:1 auf 100%, verweilt dort bis zu einem Verhältnis von\n",
    "41:1 und fällt anschließend sofort auf 0%.\n",
    "\n",
    "Der Recall-Score, d.h. der Anteil der richtigen Positiven unter den wirklich Positiven, fällt von\n",
    "72,60% bei einem Verhältnis von 1:1 stetig auf ab und fällt schließlich auf 0,00%.\n",
    "\n",
    "Im Real-Szenario sieht es wie folgt aus. Es ist für die Roboter besser, einen tatsächlich\n",
    "aufgetretenen Pfiff *nicht* zu erkennen, als eine Sekunde, in der kein Pfiff war, als Pfiff zu\n",
    "klassifizieren. Dementsprechend wollen wir die False-Positives minimieren. Somit optimieren wir\n",
    "im folgenden die Präzision anstelle des Recalls.\n",
    "\n",
    "Der maximale Präzisionswert von 100% ergibt sich zwischen den Verhältnissen von 21:1 bis 41:1. Da\n",
    "der Recall-Score bei einer niedrigerem Verhältnis besser ist, verwenden wir im Folgenden das\n",
    "niedrigste Verhältnis im Intervall von 21:1, um das resultierende Modell zu trainieren."
   ]
  },
  {
   "cell_type": "markdown",
   "id": "2b899490",
   "metadata": {},
   "source": [
    "## Resultierendes Modell mit bester Performance\n",
    "\n",
    "In den vorherigen Abschnitten ist erkennbar, das für diesen Random-State ein Verhältnis von 21:1\n",
    "die besten Ergebnisse bzgl. des Präzisionswertes liefert. Entsprechend wird im Folgenden eine\n",
    "Support Vektor Maschine mit diesem Anteil trainiert und als Resultat dieses Notepads gespeichert."
   ]
  },
  {
   "cell_type": "code",
   "execution_count": 16,
   "id": "dd25db2b",
   "metadata": {},
   "outputs": [
    {
     "name": "stdout",
     "output_type": "stream",
     "text": [
      "(6160, 44)\n",
      "(6160, 44)\n"
     ]
    }
   ],
   "source": [
    "# get reduced and reshuffled training data\n",
    "X_train_r, y_train_r = reduce_and_reshuffle(X_train, y_train, ratio_best_precision, RANDOM_STATE)\n",
    "\n",
    "print(X_train_r.shape)\n",
    "print(X_train_r.shape)"
   ]
  },
  {
   "cell_type": "code",
   "execution_count": 17,
   "id": "9440908b",
   "metadata": {},
   "outputs": [
    {
     "data": {
      "text/html": [
       "<style>#sk-container-id-1 {\n",
       "  /* Definition of color scheme common for light and dark mode */\n",
       "  --sklearn-color-text: black;\n",
       "  --sklearn-color-line: gray;\n",
       "  /* Definition of color scheme for unfitted estimators */\n",
       "  --sklearn-color-unfitted-level-0: #fff5e6;\n",
       "  --sklearn-color-unfitted-level-1: #f6e4d2;\n",
       "  --sklearn-color-unfitted-level-2: #ffe0b3;\n",
       "  --sklearn-color-unfitted-level-3: chocolate;\n",
       "  /* Definition of color scheme for fitted estimators */\n",
       "  --sklearn-color-fitted-level-0: #f0f8ff;\n",
       "  --sklearn-color-fitted-level-1: #d4ebff;\n",
       "  --sklearn-color-fitted-level-2: #b3dbfd;\n",
       "  --sklearn-color-fitted-level-3: cornflowerblue;\n",
       "\n",
       "  /* Specific color for light theme */\n",
       "  --sklearn-color-text-on-default-background: var(--sg-text-color, var(--theme-code-foreground, var(--jp-content-font-color1, black)));\n",
       "  --sklearn-color-background: var(--sg-background-color, var(--theme-background, var(--jp-layout-color0, white)));\n",
       "  --sklearn-color-border-box: var(--sg-text-color, var(--theme-code-foreground, var(--jp-content-font-color1, black)));\n",
       "  --sklearn-color-icon: #696969;\n",
       "\n",
       "  @media (prefers-color-scheme: dark) {\n",
       "    /* Redefinition of color scheme for dark theme */\n",
       "    --sklearn-color-text-on-default-background: var(--sg-text-color, var(--theme-code-foreground, var(--jp-content-font-color1, white)));\n",
       "    --sklearn-color-background: var(--sg-background-color, var(--theme-background, var(--jp-layout-color0, #111)));\n",
       "    --sklearn-color-border-box: var(--sg-text-color, var(--theme-code-foreground, var(--jp-content-font-color1, white)));\n",
       "    --sklearn-color-icon: #878787;\n",
       "  }\n",
       "}\n",
       "\n",
       "#sk-container-id-1 {\n",
       "  color: var(--sklearn-color-text);\n",
       "}\n",
       "\n",
       "#sk-container-id-1 pre {\n",
       "  padding: 0;\n",
       "}\n",
       "\n",
       "#sk-container-id-1 input.sk-hidden--visually {\n",
       "  border: 0;\n",
       "  clip: rect(1px 1px 1px 1px);\n",
       "  clip: rect(1px, 1px, 1px, 1px);\n",
       "  height: 1px;\n",
       "  margin: -1px;\n",
       "  overflow: hidden;\n",
       "  padding: 0;\n",
       "  position: absolute;\n",
       "  width: 1px;\n",
       "}\n",
       "\n",
       "#sk-container-id-1 div.sk-dashed-wrapped {\n",
       "  border: 1px dashed var(--sklearn-color-line);\n",
       "  margin: 0 0.4em 0.5em 0.4em;\n",
       "  box-sizing: border-box;\n",
       "  padding-bottom: 0.4em;\n",
       "  background-color: var(--sklearn-color-background);\n",
       "}\n",
       "\n",
       "#sk-container-id-1 div.sk-container {\n",
       "  /* jupyter's `normalize.less` sets `[hidden] { display: none; }`\n",
       "     but bootstrap.min.css set `[hidden] { display: none !important; }`\n",
       "     so we also need the `!important` here to be able to override the\n",
       "     default hidden behavior on the sphinx rendered scikit-learn.org.\n",
       "     See: https://github.com/scikit-learn/scikit-learn/issues/21755 */\n",
       "  display: inline-block !important;\n",
       "  position: relative;\n",
       "}\n",
       "\n",
       "#sk-container-id-1 div.sk-text-repr-fallback {\n",
       "  display: none;\n",
       "}\n",
       "\n",
       "div.sk-parallel-item,\n",
       "div.sk-serial,\n",
       "div.sk-item {\n",
       "  /* draw centered vertical line to link estimators */\n",
       "  background-image: linear-gradient(var(--sklearn-color-text-on-default-background), var(--sklearn-color-text-on-default-background));\n",
       "  background-size: 2px 100%;\n",
       "  background-repeat: no-repeat;\n",
       "  background-position: center center;\n",
       "}\n",
       "\n",
       "/* Parallel-specific style estimator block */\n",
       "\n",
       "#sk-container-id-1 div.sk-parallel-item::after {\n",
       "  content: \"\";\n",
       "  width: 100%;\n",
       "  border-bottom: 2px solid var(--sklearn-color-text-on-default-background);\n",
       "  flex-grow: 1;\n",
       "}\n",
       "\n",
       "#sk-container-id-1 div.sk-parallel {\n",
       "  display: flex;\n",
       "  align-items: stretch;\n",
       "  justify-content: center;\n",
       "  background-color: var(--sklearn-color-background);\n",
       "  position: relative;\n",
       "}\n",
       "\n",
       "#sk-container-id-1 div.sk-parallel-item {\n",
       "  display: flex;\n",
       "  flex-direction: column;\n",
       "}\n",
       "\n",
       "#sk-container-id-1 div.sk-parallel-item:first-child::after {\n",
       "  align-self: flex-end;\n",
       "  width: 50%;\n",
       "}\n",
       "\n",
       "#sk-container-id-1 div.sk-parallel-item:last-child::after {\n",
       "  align-self: flex-start;\n",
       "  width: 50%;\n",
       "}\n",
       "\n",
       "#sk-container-id-1 div.sk-parallel-item:only-child::after {\n",
       "  width: 0;\n",
       "}\n",
       "\n",
       "/* Serial-specific style estimator block */\n",
       "\n",
       "#sk-container-id-1 div.sk-serial {\n",
       "  display: flex;\n",
       "  flex-direction: column;\n",
       "  align-items: center;\n",
       "  background-color: var(--sklearn-color-background);\n",
       "  padding-right: 1em;\n",
       "  padding-left: 1em;\n",
       "}\n",
       "\n",
       "\n",
       "/* Toggleable style: style used for estimator/Pipeline/ColumnTransformer box that is\n",
       "clickable and can be expanded/collapsed.\n",
       "- Pipeline and ColumnTransformer use this feature and define the default style\n",
       "- Estimators will overwrite some part of the style using the `sk-estimator` class\n",
       "*/\n",
       "\n",
       "/* Pipeline and ColumnTransformer style (default) */\n",
       "\n",
       "#sk-container-id-1 div.sk-toggleable {\n",
       "  /* Default theme specific background. It is overwritten whether we have a\n",
       "  specific estimator or a Pipeline/ColumnTransformer */\n",
       "  background-color: var(--sklearn-color-background);\n",
       "}\n",
       "\n",
       "/* Toggleable label */\n",
       "#sk-container-id-1 label.sk-toggleable__label {\n",
       "  cursor: pointer;\n",
       "  display: block;\n",
       "  width: 100%;\n",
       "  margin-bottom: 0;\n",
       "  padding: 0.5em;\n",
       "  box-sizing: border-box;\n",
       "  text-align: center;\n",
       "}\n",
       "\n",
       "#sk-container-id-1 label.sk-toggleable__label-arrow:before {\n",
       "  /* Arrow on the left of the label */\n",
       "  content: \"▸\";\n",
       "  float: left;\n",
       "  margin-right: 0.25em;\n",
       "  color: var(--sklearn-color-icon);\n",
       "}\n",
       "\n",
       "#sk-container-id-1 label.sk-toggleable__label-arrow:hover:before {\n",
       "  color: var(--sklearn-color-text);\n",
       "}\n",
       "\n",
       "/* Toggleable content - dropdown */\n",
       "\n",
       "#sk-container-id-1 div.sk-toggleable__content {\n",
       "  max-height: 0;\n",
       "  max-width: 0;\n",
       "  overflow: hidden;\n",
       "  text-align: left;\n",
       "  /* unfitted */\n",
       "  background-color: var(--sklearn-color-unfitted-level-0);\n",
       "}\n",
       "\n",
       "#sk-container-id-1 div.sk-toggleable__content.fitted {\n",
       "  /* fitted */\n",
       "  background-color: var(--sklearn-color-fitted-level-0);\n",
       "}\n",
       "\n",
       "#sk-container-id-1 div.sk-toggleable__content pre {\n",
       "  margin: 0.2em;\n",
       "  border-radius: 0.25em;\n",
       "  color: var(--sklearn-color-text);\n",
       "  /* unfitted */\n",
       "  background-color: var(--sklearn-color-unfitted-level-0);\n",
       "}\n",
       "\n",
       "#sk-container-id-1 div.sk-toggleable__content.fitted pre {\n",
       "  /* unfitted */\n",
       "  background-color: var(--sklearn-color-fitted-level-0);\n",
       "}\n",
       "\n",
       "#sk-container-id-1 input.sk-toggleable__control:checked~div.sk-toggleable__content {\n",
       "  /* Expand drop-down */\n",
       "  max-height: 200px;\n",
       "  max-width: 100%;\n",
       "  overflow: auto;\n",
       "}\n",
       "\n",
       "#sk-container-id-1 input.sk-toggleable__control:checked~label.sk-toggleable__label-arrow:before {\n",
       "  content: \"▾\";\n",
       "}\n",
       "\n",
       "/* Pipeline/ColumnTransformer-specific style */\n",
       "\n",
       "#sk-container-id-1 div.sk-label input.sk-toggleable__control:checked~label.sk-toggleable__label {\n",
       "  color: var(--sklearn-color-text);\n",
       "  background-color: var(--sklearn-color-unfitted-level-2);\n",
       "}\n",
       "\n",
       "#sk-container-id-1 div.sk-label.fitted input.sk-toggleable__control:checked~label.sk-toggleable__label {\n",
       "  background-color: var(--sklearn-color-fitted-level-2);\n",
       "}\n",
       "\n",
       "/* Estimator-specific style */\n",
       "\n",
       "/* Colorize estimator box */\n",
       "#sk-container-id-1 div.sk-estimator input.sk-toggleable__control:checked~label.sk-toggleable__label {\n",
       "  /* unfitted */\n",
       "  background-color: var(--sklearn-color-unfitted-level-2);\n",
       "}\n",
       "\n",
       "#sk-container-id-1 div.sk-estimator.fitted input.sk-toggleable__control:checked~label.sk-toggleable__label {\n",
       "  /* fitted */\n",
       "  background-color: var(--sklearn-color-fitted-level-2);\n",
       "}\n",
       "\n",
       "#sk-container-id-1 div.sk-label label.sk-toggleable__label,\n",
       "#sk-container-id-1 div.sk-label label {\n",
       "  /* The background is the default theme color */\n",
       "  color: var(--sklearn-color-text-on-default-background);\n",
       "}\n",
       "\n",
       "/* On hover, darken the color of the background */\n",
       "#sk-container-id-1 div.sk-label:hover label.sk-toggleable__label {\n",
       "  color: var(--sklearn-color-text);\n",
       "  background-color: var(--sklearn-color-unfitted-level-2);\n",
       "}\n",
       "\n",
       "/* Label box, darken color on hover, fitted */\n",
       "#sk-container-id-1 div.sk-label.fitted:hover label.sk-toggleable__label.fitted {\n",
       "  color: var(--sklearn-color-text);\n",
       "  background-color: var(--sklearn-color-fitted-level-2);\n",
       "}\n",
       "\n",
       "/* Estimator label */\n",
       "\n",
       "#sk-container-id-1 div.sk-label label {\n",
       "  font-family: monospace;\n",
       "  font-weight: bold;\n",
       "  display: inline-block;\n",
       "  line-height: 1.2em;\n",
       "}\n",
       "\n",
       "#sk-container-id-1 div.sk-label-container {\n",
       "  text-align: center;\n",
       "}\n",
       "\n",
       "/* Estimator-specific */\n",
       "#sk-container-id-1 div.sk-estimator {\n",
       "  font-family: monospace;\n",
       "  border: 1px dotted var(--sklearn-color-border-box);\n",
       "  border-radius: 0.25em;\n",
       "  box-sizing: border-box;\n",
       "  margin-bottom: 0.5em;\n",
       "  /* unfitted */\n",
       "  background-color: var(--sklearn-color-unfitted-level-0);\n",
       "}\n",
       "\n",
       "#sk-container-id-1 div.sk-estimator.fitted {\n",
       "  /* fitted */\n",
       "  background-color: var(--sklearn-color-fitted-level-0);\n",
       "}\n",
       "\n",
       "/* on hover */\n",
       "#sk-container-id-1 div.sk-estimator:hover {\n",
       "  /* unfitted */\n",
       "  background-color: var(--sklearn-color-unfitted-level-2);\n",
       "}\n",
       "\n",
       "#sk-container-id-1 div.sk-estimator.fitted:hover {\n",
       "  /* fitted */\n",
       "  background-color: var(--sklearn-color-fitted-level-2);\n",
       "}\n",
       "\n",
       "/* Specification for estimator info (e.g. \"i\" and \"?\") */\n",
       "\n",
       "/* Common style for \"i\" and \"?\" */\n",
       "\n",
       ".sk-estimator-doc-link,\n",
       "a:link.sk-estimator-doc-link,\n",
       "a:visited.sk-estimator-doc-link {\n",
       "  float: right;\n",
       "  font-size: smaller;\n",
       "  line-height: 1em;\n",
       "  font-family: monospace;\n",
       "  background-color: var(--sklearn-color-background);\n",
       "  border-radius: 1em;\n",
       "  height: 1em;\n",
       "  width: 1em;\n",
       "  text-decoration: none !important;\n",
       "  margin-left: 1ex;\n",
       "  /* unfitted */\n",
       "  border: var(--sklearn-color-unfitted-level-1) 1pt solid;\n",
       "  color: var(--sklearn-color-unfitted-level-1);\n",
       "}\n",
       "\n",
       ".sk-estimator-doc-link.fitted,\n",
       "a:link.sk-estimator-doc-link.fitted,\n",
       "a:visited.sk-estimator-doc-link.fitted {\n",
       "  /* fitted */\n",
       "  border: var(--sklearn-color-fitted-level-1) 1pt solid;\n",
       "  color: var(--sklearn-color-fitted-level-1);\n",
       "}\n",
       "\n",
       "/* On hover */\n",
       "div.sk-estimator:hover .sk-estimator-doc-link:hover,\n",
       ".sk-estimator-doc-link:hover,\n",
       "div.sk-label-container:hover .sk-estimator-doc-link:hover,\n",
       ".sk-estimator-doc-link:hover {\n",
       "  /* unfitted */\n",
       "  background-color: var(--sklearn-color-unfitted-level-3);\n",
       "  color: var(--sklearn-color-background);\n",
       "  text-decoration: none;\n",
       "}\n",
       "\n",
       "div.sk-estimator.fitted:hover .sk-estimator-doc-link.fitted:hover,\n",
       ".sk-estimator-doc-link.fitted:hover,\n",
       "div.sk-label-container:hover .sk-estimator-doc-link.fitted:hover,\n",
       ".sk-estimator-doc-link.fitted:hover {\n",
       "  /* fitted */\n",
       "  background-color: var(--sklearn-color-fitted-level-3);\n",
       "  color: var(--sklearn-color-background);\n",
       "  text-decoration: none;\n",
       "}\n",
       "\n",
       "/* Span, style for the box shown on hovering the info icon */\n",
       ".sk-estimator-doc-link span {\n",
       "  display: none;\n",
       "  z-index: 9999;\n",
       "  position: relative;\n",
       "  font-weight: normal;\n",
       "  right: .2ex;\n",
       "  padding: .5ex;\n",
       "  margin: .5ex;\n",
       "  width: min-content;\n",
       "  min-width: 20ex;\n",
       "  max-width: 50ex;\n",
       "  color: var(--sklearn-color-text);\n",
       "  box-shadow: 2pt 2pt 4pt #999;\n",
       "  /* unfitted */\n",
       "  background: var(--sklearn-color-unfitted-level-0);\n",
       "  border: .5pt solid var(--sklearn-color-unfitted-level-3);\n",
       "}\n",
       "\n",
       ".sk-estimator-doc-link.fitted span {\n",
       "  /* fitted */\n",
       "  background: var(--sklearn-color-fitted-level-0);\n",
       "  border: var(--sklearn-color-fitted-level-3);\n",
       "}\n",
       "\n",
       ".sk-estimator-doc-link:hover span {\n",
       "  display: block;\n",
       "}\n",
       "\n",
       "/* \"?\"-specific style due to the `<a>` HTML tag */\n",
       "\n",
       "#sk-container-id-1 a.estimator_doc_link {\n",
       "  float: right;\n",
       "  font-size: 1rem;\n",
       "  line-height: 1em;\n",
       "  font-family: monospace;\n",
       "  background-color: var(--sklearn-color-background);\n",
       "  border-radius: 1rem;\n",
       "  height: 1rem;\n",
       "  width: 1rem;\n",
       "  text-decoration: none;\n",
       "  /* unfitted */\n",
       "  color: var(--sklearn-color-unfitted-level-1);\n",
       "  border: var(--sklearn-color-unfitted-level-1) 1pt solid;\n",
       "}\n",
       "\n",
       "#sk-container-id-1 a.estimator_doc_link.fitted {\n",
       "  /* fitted */\n",
       "  border: var(--sklearn-color-fitted-level-1) 1pt solid;\n",
       "  color: var(--sklearn-color-fitted-level-1);\n",
       "}\n",
       "\n",
       "/* On hover */\n",
       "#sk-container-id-1 a.estimator_doc_link:hover {\n",
       "  /* unfitted */\n",
       "  background-color: var(--sklearn-color-unfitted-level-3);\n",
       "  color: var(--sklearn-color-background);\n",
       "  text-decoration: none;\n",
       "}\n",
       "\n",
       "#sk-container-id-1 a.estimator_doc_link.fitted:hover {\n",
       "  /* fitted */\n",
       "  background-color: var(--sklearn-color-fitted-level-3);\n",
       "}\n",
       "</style><div id=\"sk-container-id-1\" class=\"sk-top-container\"><div class=\"sk-text-repr-fallback\"><pre>SVC()</pre><b>In a Jupyter environment, please rerun this cell to show the HTML representation or trust the notebook. <br />On GitHub, the HTML representation is unable to render, please try loading this page with nbviewer.org.</b></div><div class=\"sk-container\" hidden><div class=\"sk-item\"><div class=\"sk-estimator fitted sk-toggleable\"><input class=\"sk-toggleable__control sk-hidden--visually\" id=\"sk-estimator-id-1\" type=\"checkbox\" checked><label for=\"sk-estimator-id-1\" class=\"sk-toggleable__label fitted sk-toggleable__label-arrow fitted\">&nbsp;&nbsp;SVC<a class=\"sk-estimator-doc-link fitted\" rel=\"noreferrer\" target=\"_blank\" href=\"https://scikit-learn.org/1.5/modules/generated/sklearn.svm.SVC.html\">?<span>Documentation for SVC</span></a><span class=\"sk-estimator-doc-link fitted\">i<span>Fitted</span></span></label><div class=\"sk-toggleable__content fitted\"><pre>SVC()</pre></div> </div></div></div></div>"
      ],
      "text/plain": [
       "SVC()"
      ]
     },
     "execution_count": 17,
     "metadata": {},
     "output_type": "execute_result"
    }
   ],
   "source": [
    "# train model\n",
    "model = SVC()\n",
    "model.fit(X_train_r, y_train_r)"
   ]
  },
  {
   "cell_type": "code",
   "execution_count": 18,
   "id": "482b6782",
   "metadata": {},
   "outputs": [],
   "source": [
    "import skops.io as sio\n",
    "sio.dump(model, f'svc.skops')"
   ]
  },
  {
   "cell_type": "code",
   "execution_count": 19,
   "id": "fc92fe08",
   "metadata": {},
   "outputs": [],
   "source": [
    "# generate predictions for test data\n",
    "y_test_predict = model.predict(X_test)"
   ]
  },
  {
   "cell_type": "code",
   "execution_count": 20,
   "id": "d26b3c8d",
   "metadata": {},
   "outputs": [
    {
     "name": "stdout",
     "output_type": "stream",
     "text": [
      "#correct predictions: 7858\n",
      "#false predictions:   67\n"
     ]
    }
   ],
   "source": [
    "print(f'#correct predictions: {y_test[y_test == y_test_predict].shape[0]}')\n",
    "print(f'#false predictions:   {y_test[y_test != y_test_predict].shape[0]}')"
   ]
  },
  {
   "cell_type": "code",
   "execution_count": 21,
   "id": "5f54090d",
   "metadata": {},
   "outputs": [
    {
     "name": "stdout",
     "output_type": "stream",
     "text": [
      "#real whistles:      73\n",
      "#predicted whistles: 73\n"
     ]
    }
   ],
   "source": [
    "print(f'#real whistles:      {y_test[y_test == LABEL_WHISTLE].shape[0]}')\n",
    "print(f'#predicted whistles: {y_test_predict[y_test == LABEL_WHISTLE].shape[0]}')"
   ]
  },
  {
   "cell_type": "code",
   "execution_count": 22,
   "id": "05252dcc",
   "metadata": {},
   "outputs": [
    {
     "name": "stdout",
     "output_type": "stream",
     "text": [
      "#real no whistles:      7852\n",
      "#predicted no whistles: 7852\n"
     ]
    }
   ],
   "source": [
    "print(f'#real no whistles:      {y_test[y_test == LABEL_NO_WHISTLE].shape[0]}')\n",
    "print(f'#predicted no whistles: {y_test_predict[y_test == LABEL_NO_WHISTLE].shape[0]}')"
   ]
  },
  {
   "cell_type": "code",
   "execution_count": 23,
   "id": "36f8d971",
   "metadata": {},
   "outputs": [
    {
     "name": "stdout",
     "output_type": "stream",
     "text": [
      "accuracy:  0.9915\n",
      "precision: 1.0000\n",
      "recall:    0.0822\n",
      "f1:        0.1519\n"
     ]
    }
   ],
   "source": [
    "# proportion of correct predictions\n",
    "print(f'accuracy:  {metrics.accuracy_score(y_test, y_test_predict):.4f}')\n",
    "\n",
    "# proportion of true positives under all positives\n",
    "print(f'precision: {metrics.precision_score(y_test, y_test_predict):.4f}')\n",
    "\n",
    "# proportion of true positives under actually positives\n",
    "print(f'recall:    {metrics.recall_score(y_test, y_test_predict):.4f}')\n",
    "\n",
    "# total performance\n",
    "print(f'f1:        {metrics.f1_score(y_test, y_test_predict):.4f}')"
   ]
  },
  {
   "cell_type": "code",
   "execution_count": 24,
   "id": "4807bd54",
   "metadata": {},
   "outputs": [
    {
     "name": "stdout",
     "output_type": "stream",
     "text": [
      "              precision    recall  f1-score   support\n",
      "\n",
      "          -1       0.99      1.00      1.00      7852\n",
      "           1       1.00      0.08      0.15        73\n",
      "\n",
      "    accuracy                           0.99      7925\n",
      "   macro avg       1.00      0.54      0.57      7925\n",
      "weighted avg       0.99      0.99      0.99      7925\n",
      "\n"
     ]
    }
   ],
   "source": [
    "print(metrics.classification_report(y_test, y_test_predict))"
   ]
  },
  {
   "cell_type": "code",
   "execution_count": 25,
   "id": "19e8783a",
   "metadata": {},
   "outputs": [
    {
     "data": {
      "image/png": "[encoded data removed]",
      "text/plain": [
       "<Figure size 640x480 with 2 Axes>"
      ]
     },
     "metadata": {},
     "output_type": "display_data"
    }
   ],
   "source": [
    "_ = metrics.ConfusionMatrixDisplay.from_predictions(y_test, y_test_predict)"
   ]
  },
  {
   "cell_type": "code",
   "execution_count": 26,
   "id": "86415190",
   "metadata": {},
   "outputs": [
    {
     "name": "stdout",
     "output_type": "stream",
     "text": [
      "[[0.9908 0.    ]\n",
      " [0.0085 0.0008]]\n"
     ]
    }
   ],
   "source": [
    "# relative confusion matrix\n",
    "print(metrics.confusion_matrix(y_test, y_test_predict) / y_test.shape[0])"
   ]
  }
 ],
 "metadata": {
  "kernelspec": {
   "display_name": ".venv",
   "language": "python",
   "name": "python3"
  },
  "language_info": {
   "codemirror_mode": {
    "name": "ipython",
    "version": 3
   },
   "file_extension": ".py",
   "mimetype": "text/x-python",
   "name": "python",
   "nbconvert_exporter": "python",
   "pygments_lexer": "ipython3",
   "version": "3.11.9"
  }
 },
 "nbformat": 4,
 "nbformat_minor": 5
}
