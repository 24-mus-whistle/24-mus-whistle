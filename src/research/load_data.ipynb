{
 "cells": [
  {
   "cell_type": "markdown",
   "metadata": {},
   "source": [
    "# How to get absolute paths to data files\n",
    "\n",
    "⚠️ **Note**: Path to `src/data` is relative $\\Rightarrow$ code needs to change depending on file location"
   ]
  },
  {
   "cell_type": "code",
   "execution_count": 9,
   "metadata": {},
   "outputs": [],
   "source": [
    "import os\n",
    "\n",
    "# determine path to `src/data`\n",
    "cwd = os.getcwd()\n",
    "src_dir = os.path.join(cwd, os.pardir)\n",
    "data_dir = os.path.join(src_dir, 'data')\n",
    "\n",
    "# get absolute paths for each file in `src/data`\n",
    "data_file_paths = map(\n",
    "    lambda file: os.path.join(data_dir, file),\n",
    "    os.listdir(data_dir)\n",
    ")\n",
    "data_file_paths = list(data_file_paths)"
   ]
  }
 ],
 "metadata": {
  "kernelspec": {
   "display_name": ".venv",
   "language": "python",
   "name": "python3"
  },
  "language_info": {
   "codemirror_mode": {
    "name": "ipython",
    "version": 3
   },
   "file_extension": ".py",
   "mimetype": "text/x-python",
   "name": "python",
   "nbconvert_exporter": "python",
   "pygments_lexer": "ipython3",
   "version": "3.11.9"
  }
 },
 "nbformat": 4,
 "nbformat_minor": 2
}
