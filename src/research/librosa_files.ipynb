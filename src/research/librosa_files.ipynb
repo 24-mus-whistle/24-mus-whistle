{
 "cells": [
  {
   "cell_type": "markdown",
   "metadata": {},
   "source": [
    "# Dateien Einlesen\n",
    "\n",
    "in diesem Notebook lesen wir für alle Dateien im Data Ordner ein und erstellen die Spektogramme aus dem Audiodatein und die Label aus dem CSV Datein"
   ]
  },
  {
   "cell_type": "code",
   "execution_count": 8,
   "metadata": {},
   "outputs": [],
   "source": [
    "import librosa\n",
    "import numpy as np\n",
    "np.set_printoptions(precision=4, suppress=True)\n",
    "import os\n",
    "import pandas as pd"
   ]
  },
  {
   "cell_type": "markdown",
   "metadata": {},
   "source": [
    "## Data Ordner auslesen\n",
    "\n",
    "Zuerst wird der Dateipfad für den Data Ordner erstellt. Anschließend werden die Pfade aller verfügbaren Audio- und Label-Datein jeweils in einer Liste gespeichert"
   ]
  },
  {
   "cell_type": "code",
   "execution_count": 9,
   "metadata": {},
   "outputs": [],
   "source": [
    "# determine path to `src/data`\n",
    "cwd = os.getcwd()\n",
    "src_dir = os.path.join(cwd, os.pardir)\n",
    "data_dir = os.path.join(src_dir, 'data')\n",
    "\n",
    "# get absolute paths for each file in `src/data`\n",
    "data_file_paths = map(\n",
    "    lambda file: os.path.join(data_dir, file),\n",
    "    os.listdir(data_dir)\n",
    ")\n",
    "data_file_paths = list(data_file_paths)"
   ]
  },
  {
   "cell_type": "code",
   "execution_count": 10,
   "metadata": {},
   "outputs": [],
   "source": [
    "audio_files = []\n",
    "label_files = []\n",
    "\n",
    "for file in data_file_paths:\n",
    "    extension = os.path.splitext(file)[1]\n",
    "    if extension == '.flac':\n",
    "        audio_files.append(file)\n",
    "    elif extension == '.csv':\n",
    "        label_files.append(file)"
   ]
  },
  {
   "cell_type": "markdown",
   "metadata": {},
   "source": [
    "## Label und Spektrogramm extrahieren\n",
    "\n",
    "Mithilfe der Dateipfade werden die Audio- und Label-Datein eingelesen. Anschließend wird ein MFCC über jede Audiodatei erstellt und alle Label in einer Liste gespeichert"
   ]
  },
  {
   "cell_type": "code",
   "execution_count": 11,
   "metadata": {},
   "outputs": [],
   "source": [
    "audio_data = []\n",
    "time_ranges = []\n",
    "labels = []\n",
    "\n",
    "for audio_file, label_file in zip(audio_files, label_files):\n",
    "    waveform, sample_rate = librosa.load(audio_file)\n",
    "    mfccs = librosa.feature.mfcc(y=waveform, sr=sample_rate)\n",
    "    audio_data.append(mfccs)\n",
    "    \n",
    "    # data frame\n",
    "    label_df = pd.read_csv(label_file)\n",
    "    labels.append(label_df.to_numpy())"
   ]
  }
 ],
 "metadata": {
  "kernelspec": {
   "display_name": "Python 3 (ipykernel)",
   "language": "python",
   "name": "python3"
  },
  "language_info": {
   "codemirror_mode": {
    "name": "ipython",
    "version": 3
   },
   "file_extension": ".py",
   "mimetype": "text/x-python",
   "name": "python",
   "nbconvert_exporter": "python",
   "pygments_lexer": "ipython3",
   "version": "3.11.9"
  }
 },
 "nbformat": 4,
 "nbformat_minor": 4
}
