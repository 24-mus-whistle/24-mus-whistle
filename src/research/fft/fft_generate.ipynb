{
 "cells": [
  {
   "cell_type": "markdown",
   "metadata": {},
   "source": [
    "# Generate FFT Feature Matrix and Label"
   ]
  },
  {
   "cell_type": "code",
   "execution_count": 8,
   "metadata": {},
   "outputs": [],
   "source": [
    "# adjust as necessary\n",
    "max_file_count = 25"
   ]
  },
  {
   "cell_type": "markdown",
   "metadata": {},
   "source": [
    "## Read Data"
   ]
  },
  {
   "cell_type": "code",
   "execution_count": 9,
   "metadata": {},
   "outputs": [],
   "source": [
    "import os\n",
    "import sys\n",
    "sys.path.append(os.path.join(os.pardir, os.pardir))\n",
    "from helper.load_data import load_data"
   ]
  },
  {
   "cell_type": "code",
   "execution_count": 10,
   "metadata": {},
   "outputs": [],
   "source": [
    "# determine path to `src/data`\n",
    "cwd = os.getcwd()\n",
    "src_dir = os.path.join(cwd, os.path.join(os.pardir, os.pardir))\n",
    "data_dir = os.path.join(src_dir, 'data')\n",
    "\n",
    "# load files\n",
    "data_file_paths = load_data(data_dir)"
   ]
  },
  {
   "cell_type": "code",
   "execution_count": 11,
   "metadata": {},
   "outputs": [],
   "source": [
    "# make sure that `max_file_count` is in bounds\n",
    "max_file_count = min(max_file_count, len(data_file_paths))"
   ]
  },
  {
   "cell_type": "markdown",
   "metadata": {},
   "source": [
    "## Feature Matrix and Label"
   ]
  },
  {
   "cell_type": "code",
   "execution_count": 12,
   "metadata": {},
   "outputs": [],
   "source": [
    "import librosa\n",
    "import numpy as np\n",
    "np.set_printoptions(precision=4, suppress=True)\n",
    "import pandas as pd\n",
    "from scipy.fftpack import fft\n",
    "from tqdm import tqdm\n",
    "\n",
    "# do not print warnings\n",
    "if not sys.warnoptions:\n",
    "    import warnings\n",
    "    warnings.simplefilter('ignore')"
   ]
  },
  {
   "cell_type": "code",
   "execution_count": 13,
   "metadata": {},
   "outputs": [],
   "source": [
    "def get_feature(waveform, sample_rate):\n",
    "    return fft(waveform)\n",
    "\n",
    "def get_label(label_str):\n",
    "    return -1 if (label_str == 'No_Whistle') else 1"
   ]
  },
  {
   "cell_type": "code",
   "execution_count": 14,
   "metadata": {},
   "outputs": [
    {
     "name": "stderr",
     "output_type": "stream",
     "text": [
      "100%|██████████| 25/25 [00:19<00:00,  1.28file/s]\n"
     ]
    }
   ],
   "source": [
    "audio_data = []\n",
    "labels = []\n",
    "\n",
    "for file in tqdm(data_file_paths[:max_file_count], unit='file'):\n",
    "    base = os.path.splitext(file)[0]\n",
    "    extension = os.path.splitext(file)[1]\n",
    "    \n",
    "    if extension == '.flac' and os.path.isfile(base + '.csv'):\n",
    "        label_df = pd.read_csv(base + '.csv')\n",
    "\n",
    "        for index, row in label_df.iterrows():\n",
    "            start = max(0, row['start'])\n",
    "            end = row['end']\n",
    "            duration = end - start\n",
    "            \n",
    "            if duration <= 0:\n",
    "                continue\n",
    "            \n",
    "            waveform, sample_rate = librosa.load(\n",
    "                file,\n",
    "                sr=None,    # do not resample file\n",
    "                mono=True,\n",
    "                offset=start,\n",
    "                duration=duration)\n",
    "            \n",
    "            audio_data.append([waveform, sample_rate])\n",
    "            \n",
    "            label = get_label(row['label'])\n",
    "            labels.append(label)"
   ]
  },
  {
   "cell_type": "code",
   "execution_count": 15,
   "metadata": {},
   "outputs": [
    {
     "name": "stdout",
     "output_type": "stream",
     "text": [
      "9837074\n"
     ]
    }
   ],
   "source": [
    "max_length = 0\n",
    "for file in audio_data:\n",
    "    waveform = file[0]\n",
    "    max_length = max(max_length, len(waveform))\n",
    "print(max_length)"
   ]
  },
  {
   "cell_type": "code",
   "execution_count": 16,
   "metadata": {},
   "outputs": [
    {
     "name": "stderr",
     "output_type": "stream",
     "text": [
      "100%|██████████| 202/202 [05:55<00:00,  1.76s/file]\n"
     ]
    }
   ],
   "source": [
    "feature_matrix = []\n",
    "\n",
    "for index, file in enumerate(tqdm(audio_data, unit='file')):\n",
    "    waveform = file[0]\n",
    "    sample_rate = file[1]\n",
    "    \n",
    "    padded_audio = waveform\n",
    "    if len(waveform) < max_length:\n",
    "        padded_audio = np.pad(waveform, (0, max_length - len(waveform)), mode='constant')\n",
    "    \n",
    "    feature = get_feature(padded_audio, sample_rate)\n",
    "    feature_matrix.append(feature)"
   ]
  },
  {
   "cell_type": "code",
   "execution_count": 17,
   "metadata": {},
   "outputs": [],
   "source": [
    "feature_matrix = np.array(feature_matrix).squeeze()\n",
    "labels = np.array(labels)"
   ]
  },
  {
   "cell_type": "code",
   "execution_count": 18,
   "metadata": {},
   "outputs": [],
   "source": [
    "np.save(f'fft_feature_{max_file_count}.npy', feature_matrix)\n",
    "np.save(f'labels_{max_file_count}.npy', labels)"
   ]
  }
 ],
 "metadata": {
  "kernelspec": {
   "display_name": ".venv",
   "language": "python",
   "name": "python3"
  },
  "language_info": {
   "codemirror_mode": {
    "name": "ipython",
    "version": 3
   },
   "file_extension": ".py",
   "mimetype": "text/x-python",
   "name": "python",
   "nbconvert_exporter": "python",
   "pygments_lexer": "ipython3",
   "version": "3.11.9"
  }
 },
 "nbformat": 4,
 "nbformat_minor": 2
}
