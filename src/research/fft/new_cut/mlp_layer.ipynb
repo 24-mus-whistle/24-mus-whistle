{
 "cells": [
  {
   "cell_type": "markdown",
   "id": "bacb73c7",
   "metadata": {},
   "source": [
    "# Analyse der Layer-Anzahl für Multi-layered Perceptrons\n",
    "\n",
    "In diesem Notebook analysieren wir die Leistung eines Multi-layered Perceptrons (MLP) basierend auf\n",
    "verschiedenen Größen der Hidden-Layers. Wir erwarten, dass dieser Parameter einen erheblichen\n",
    "Einfluss auf die Leistungsmetriken des Modell hat.\n",
    "\n",
    "Als Basis verwenden wir das `sizes`-Array, welches die folgenden Größen annimmt:\n",
    "\n",
    "$$\\{ (1,1),~(1,10),~(1,20),~\\ldots,~(1,50),~(10,1),~(10,10),~\\ldots,~(10,50),~\\ldots,~(50,50)\\}$$\n",
    "\n",
    "$$\\Huge\\color{red}\\textbf{TODO}$$\n",
    "\n",
    "<!-- Wir kommen zum Schluss, dass die beste Präzision von 55,56% bei einer Größe von $(70,30)$ erreicht\n",
    "wird. Der F1-Score liegt dabei bei für die Praxis ungenügenden 0,12. -->"
   ]
  },
  {
   "cell_type": "code",
   "execution_count": 1,
   "id": "ab3055e1",
   "metadata": {},
   "outputs": [],
   "source": [
    "max_file_count = None\n",
    "none_replacement = 'all'\n",
    "\n",
    "RANDOM_STATE = 42"
   ]
  },
  {
   "cell_type": "markdown",
   "id": "f70b9e40",
   "metadata": {},
   "source": [
    "## FFT Daten laden\n",
    "\n",
    "🔗 siehe [generate.ipynb](generate.ipynb)"
   ]
  },
  {
   "cell_type": "code",
   "execution_count": 2,
   "id": "976a0c83",
   "metadata": {},
   "outputs": [],
   "source": [
    "import numpy as np\n",
    "\n",
    "feature_matrix = np.load(f'feature_{max_file_count or none_replacement}.npy')\n",
    "labels = np.load(f'labels_{max_file_count or none_replacement}.npy')\n",
    "\n",
    "feature_matrix = np.abs(feature_matrix)"
   ]
  },
  {
   "cell_type": "markdown",
   "id": "929096d7",
   "metadata": {},
   "source": [
    "## Aufteilung in Trainings- und Testdaten"
   ]
  },
  {
   "cell_type": "code",
   "execution_count": 3,
   "id": "34cb8781-2ac1-470e-b8fd-992600d02530",
   "metadata": {},
   "outputs": [],
   "source": [
    "from sklearn.model_selection import train_test_split\n",
    "\n",
    "X_train, X_test, y_train, y_test = train_test_split(feature_matrix, labels,\n",
    "                                                    test_size=0.2, random_state=RANDOM_STATE)"
   ]
  },
  {
   "cell_type": "code",
   "execution_count": 5,
   "id": "eee50352",
   "metadata": {},
   "outputs": [
    {
     "name": "stdout",
     "output_type": "stream",
     "text": [
      "(31697, 22050)\n",
      "(7925, 22050)\n"
     ]
    }
   ],
   "source": [
    "print(X_train.shape)\n",
    "print(X_test.shape)"
   ]
  },
  {
   "cell_type": "code",
   "execution_count": 6,
   "id": "62f493e0",
   "metadata": {},
   "outputs": [],
   "source": [
    "LABEL_NO_WHISTLE = -1\n",
    "LABEL_WHISTLE = 1"
   ]
  },
  {
   "cell_type": "markdown",
   "id": "24c979dd",
   "metadata": {},
   "source": [
    "## Analyse der Layer"
   ]
  },
  {
   "cell_type": "code",
   "execution_count": 7,
   "id": "a04ecba7",
   "metadata": {},
   "outputs": [],
   "source": [
    "# get possible sizes from (1,1) to (50,50) with step length 10\n",
    "sizes = []\n",
    "for i in range(0, 100 + 10, 10):\n",
    "    for j in range(0, 50 + 10, 10):\n",
    "        sizes.append([max(1, i), max(1, j)])\n",
    "sizes = np.array(sizes)"
   ]
  },
  {
   "cell_type": "code",
   "execution_count": 8,
   "id": "93cd3f77",
   "metadata": {},
   "outputs": [
    {
     "name": "stderr",
     "output_type": "stream",
     "text": [
      " 27%|██▋       | 18/66 [26:09<1:24:25, 105.54s/size]"
     ]
    }
   ],
   "source": [
    "from sklearn.neural_network import MLPClassifier\n",
    "from sklearn import metrics\n",
    "from tqdm import tqdm\n",
    "\n",
    "accuracies = []\n",
    "precisions = []\n",
    "recalls = []\n",
    "f1s = []\n",
    "\n",
    "for size in tqdm(sizes, unit='size'):\n",
    "    model = MLPClassifier(hidden_layer_sizes=size, random_state=RANDOM_STATE)\n",
    "    model.fit(X_train, y_train)\n",
    "    \n",
    "    y_test_predict = model.predict(X_test)\n",
    "    \n",
    "    # proportion of correct predictions\n",
    "    accuracies.append(metrics.accuracy_score(y_test, y_test_predict))\n",
    "    \n",
    "    # proportion of true positives under all positives\n",
    "    precisions.append(metrics.precision_score(y_test, y_test_predict, zero_division=0))\n",
    "    \n",
    "    # proportion of true positives under actually positives\n",
    "    recalls.append(metrics.recall_score(y_test, y_test_predict))\n",
    "    \n",
    "    # total performance\n",
    "    f1s.append(metrics.f1_score(y_test, y_test_predict))\n",
    "\n",
    "accuracies = np.array(accuracies)\n",
    "precisions = np.array(precisions)\n",
    "recalls = np.array(recalls)\n",
    "f1s = np.array(f1s)"
   ]
  },
  {
   "cell_type": "code",
   "execution_count": null,
   "id": "440ca907",
   "metadata": {},
   "outputs": [],
   "source": [
    "size_best_f1 = sizes[np.argmax(f1s)]\n",
    "size_best_recall = sizes[np.argmax(recalls)]\n",
    "size_best_precision = sizes[np.argmax(precisions)]\n",
    "\n",
    "print(f'best f1:        {np.max(f1s):.4f} with size {size_best_f1}')\n",
    "print(f'best recall:    {np.max(recalls):.4f} with size {size_best_recall}')\n",
    "print(f'best precision: {np.max(precisions):.4f} with size {size_best_precision}')"
   ]
  },
  {
   "cell_type": "code",
   "execution_count": null,
   "id": "f0be16b2",
   "metadata": {},
   "outputs": [],
   "source": [
    "print(f'precision at best f1: {precisions[np.argmax(f1s)]:.2f}')\n",
    "print(f'f1 at best precision: {f1s[np.argmax(precisions)]:.2f}')"
   ]
  },
  {
   "cell_type": "code",
   "execution_count": null,
   "id": "98618dce",
   "metadata": {},
   "outputs": [],
   "source": [
    "import matplotlib.pyplot as plt\n",
    "import scipy.interpolate\n",
    "\n",
    "fig, axs = plt.subplots(2, 2, figsize=(8,6))\n",
    "cmap = 'binary'\n",
    "\n",
    "scatter_f1 = axs[0, 0].scatter(sizes[:, 0], sizes[:, 1], c=f1s, cmap=cmap)\n",
    "fig.colorbar(scatter_f1, ax=axs[0, 0])\n",
    "axs[0, 0].set_title('a. F1-Score')\n",
    "\n",
    "scatter_accs = axs[0, 1].scatter(sizes[:, 0], sizes[:, 1], c=accuracies, cmap=cmap)\n",
    "fig.colorbar(scatter_accs, ax=axs[0, 1])\n",
    "axs[0, 1].set_title('b. Accuracy')\n",
    "\n",
    "scatter_precs = axs[1, 0].scatter(sizes[:, 0], sizes[:, 1], c=precisions, cmap=cmap)\n",
    "fig.colorbar(scatter_precs, ax=axs[1, 0])\n",
    "axs[1, 0].set_title('c. Precision')\n",
    "\n",
    "scatter_recs = axs[1, 1].scatter(sizes[:, 0], sizes[:, 1], c=recalls, cmap=cmap)\n",
    "fig.colorbar(scatter_recs, ax=axs[1, 1])\n",
    "axs[1, 1].set_title('d. Recall')\n",
    "\n",
    "fig.suptitle('Fig. 1: Model Scores for Hidden Layer Sizes')\n",
    "fig.supxlabel('Number of neurons in 1st hidden layer', fontsize=10)\n",
    "fig.supylabel('Number of neurons in 2nd hidden layer', fontsize=10)\n",
    "\n",
    "fig.tight_layout()\n",
    "plt.show()"
   ]
  },
  {
   "cell_type": "markdown",
   "id": "cc0ff415",
   "metadata": {},
   "source": [
    "In Fig. 1 sind die Leistungsmetriken der Modelle basierend auf den verschiedenen Hidden-Layer-Größen\n",
    "dargestellt. In Subfig. 1a. wird deutlich, dass der F1-Score mit zunehmender Neuronenanzahl in\n",
    "beiden versteckten Schichten zunimmt. Dieser nimmt allerdings ab dem Bestwert von 0,18 bei $(60,50)$\n",
    "wieder ab. Dort erreicht der Recall ebenfalls den besten Wert.\n",
    "\n",
    "Bei der Präzision scheint das Verhalten ähnlich zu sein. Im oberen rechten Quadranten häufen sich\n",
    "die besseren Werte. Das Optimum liegt mit 55,56% bei $(70,30)$.\n",
    "\n",
    "Im Real-Szenario sieht es wie folgt aus. Es ist für die Roboter besser, einen tatsächlich\n",
    "aufgetretenen Pfiff *nicht* zu erkennen, als eine Sekunde, in der kein Pfiff war, als Pfiff zu\n",
    "klassifizieren. Dementsprechend wollen wir die False-Negatives minimieren. Somit optimieren wir\n",
    "im folgenden die Präzision anstelle des Recalls.\n",
    "\n",
    "Daher wird im Folgenden das resultierende Modell mit der Hidden-Layer-Größe von $(70,30)$ trainiert."
   ]
  },
  {
   "cell_type": "markdown",
   "id": "2b899490",
   "metadata": {},
   "source": [
    "## Resultierendes Modell mit bester Performance"
   ]
  },
  {
   "cell_type": "code",
   "execution_count": null,
   "id": "9440908b",
   "metadata": {},
   "outputs": [],
   "source": [
    "print(f'train model with size {size_best_precision}')\n",
    "\n",
    "# train model\n",
    "model = MLPClassifier(hidden_layer_sizes=size_best_precision, random_state=RANDOM_STATE)\n",
    "model.fit(X_train, y_train)"
   ]
  },
  {
   "cell_type": "code",
   "execution_count": null,
   "id": "482b6782",
   "metadata": {},
   "outputs": [],
   "source": [
    "import skops.io as sio\n",
    "sio.dump(model, f'mlp_layer.skops')"
   ]
  },
  {
   "cell_type": "code",
   "execution_count": null,
   "id": "fc92fe08",
   "metadata": {},
   "outputs": [],
   "source": [
    "# generate predictions for test data\n",
    "y_test_predict = model.predict(X_test)"
   ]
  },
  {
   "cell_type": "code",
   "execution_count": null,
   "id": "d26b3c8d",
   "metadata": {},
   "outputs": [],
   "source": [
    "print(f'#correct predictions: {y_test[y_test == y_test_predict].shape[0]}')\n",
    "print(f'#false predictions:   {y_test[y_test != y_test_predict].shape[0]}')"
   ]
  },
  {
   "cell_type": "code",
   "execution_count": null,
   "id": "5f54090d",
   "metadata": {},
   "outputs": [],
   "source": [
    "print(f'#real whistles:      {y_test[y_test == LABEL_WHISTLE].shape[0]}')\n",
    "print(f'#predicted whistles: {y_test_predict[y_test == LABEL_WHISTLE].shape[0]}')"
   ]
  },
  {
   "cell_type": "code",
   "execution_count": null,
   "id": "05252dcc",
   "metadata": {},
   "outputs": [],
   "source": [
    "print(f'#real no whistles:      {y_test[y_test == LABEL_NO_WHISTLE].shape[0]}')\n",
    "print(f'#predicted no whistles: {y_test_predict[y_test == LABEL_NO_WHISTLE].shape[0]}')"
   ]
  },
  {
   "cell_type": "code",
   "execution_count": null,
   "id": "36f8d971",
   "metadata": {},
   "outputs": [],
   "source": [
    "# proportion of correct predictions\n",
    "print(f'accuracy:  {metrics.accuracy_score(y_test, y_test_predict):.4f}')\n",
    "\n",
    "# proportion of true positives under all positives\n",
    "print(f'precision: {metrics.precision_score(y_test, y_test_predict):.4f}')\n",
    "\n",
    "# proportion of true positives under actually positives\n",
    "print(f'recall:    {metrics.recall_score(y_test, y_test_predict):.4f}')\n",
    "\n",
    "# total performance\n",
    "print(f'f1:        {metrics.f1_score(y_test, y_test_predict):.4f}')"
   ]
  },
  {
   "cell_type": "code",
   "execution_count": null,
   "id": "4807bd54",
   "metadata": {},
   "outputs": [],
   "source": [
    "print(metrics.classification_report(y_test, y_test_predict))"
   ]
  },
  {
   "cell_type": "code",
   "execution_count": null,
   "id": "19e8783a",
   "metadata": {},
   "outputs": [],
   "source": [
    "_ = metrics.ConfusionMatrixDisplay.from_predictions(y_test, y_test_predict)"
   ]
  },
  {
   "cell_type": "code",
   "execution_count": null,
   "id": "86415190",
   "metadata": {},
   "outputs": [],
   "source": [
    "# relative confusion matrix\n",
    "print(metrics.confusion_matrix(y_test, y_test_predict) / y_test.shape[0])"
   ]
  }
 ],
 "metadata": {
  "kernelspec": {
   "display_name": ".venv",
   "language": "python",
   "name": "python3"
  },
  "language_info": {
   "codemirror_mode": {
    "name": "ipython",
    "version": 3
   },
   "file_extension": ".py",
   "mimetype": "text/x-python",
   "name": "python",
   "nbconvert_exporter": "python",
   "pygments_lexer": "ipython3",
   "version": "3.11.9"
  }
 },
 "nbformat": 4,
 "nbformat_minor": 5
}
