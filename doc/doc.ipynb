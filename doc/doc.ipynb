{
 "cells": [
  {
   "cell_type": "markdown",
   "metadata": {},
   "source": [
    "# Einleitung\n",
    "\n",
    "<!-- normale Einleitung zum Projekt -->\n",
    "<!-- Kontext zu NAO Robots geben -->"
   ]
  },
  {
   "cell_type": "markdown",
   "metadata": {},
   "source": [
    "# Rohdaten\n",
    "\n",
    "<!-- Aufbau der Rohdaten etc. -->"
   ]
  },
  {
   "cell_type": "markdown",
   "metadata": {},
   "source": [
    "# Vorverbarbeitung der Daten\n",
    "\n",
    "<!-- was haben wir mit Daten gemacht, warum? -->"
   ]
  },
  {
   "cell_type": "markdown",
   "metadata": {},
   "source": [
    "# Machine Learning Modelle\n",
    "\n",
    "<!-- ML Modelle, die wir verwendet haben -->\n",
    "<!-- vermutlich unterschiedliche Ansätze -->"
   ]
  },
  {
   "cell_type": "markdown",
   "metadata": {},
   "source": [
    "# Ergebnisse\n",
    "\n",
    "<!-- Ergebnisse der ML Modelle + Bewertung -->"
   ]
  },
  {
   "cell_type": "markdown",
   "metadata": {},
   "source": [
    "# Diskussion\n",
    "\n",
    "<!-- Diskussion der Ergebnisse -->"
   ]
  },
  {
   "cell_type": "markdown",
   "metadata": {},
   "source": [
    "# Fazit\n",
    "\n",
    "<!-- Zusammenfassung -->"
   ]
  }
 ],
 "metadata": {
  "language_info": {
   "name": "python"
  }
 },
 "nbformat": 4,
 "nbformat_minor": 2
}
